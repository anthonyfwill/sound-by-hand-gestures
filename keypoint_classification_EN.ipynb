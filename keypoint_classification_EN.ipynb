{
 "cells": [
  {
   "cell_type": "code",
   "execution_count": 1,
   "metadata": {
    "id": "igMyGnjE9hEp"
   },
   "outputs": [
    {
     "name": "stdout",
     "output_type": "stream",
     "text": [
      "WARNING:tensorflow:From C:\\Users\\madar\\AppData\\Roaming\\Python\\Python311\\site-packages\\keras\\src\\losses.py:2976: The name tf.losses.sparse_softmax_cross_entropy is deprecated. Please use tf.compat.v1.losses.sparse_softmax_cross_entropy instead.\n",
      "\n"
     ]
    }
   ],
   "source": [
    "import csv\n",
    "\n",
    "import numpy as np\n",
    "import tensorflow as tf\n",
    "from sklearn.model_selection import train_test_split\n",
    "\n",
    "RANDOM_SEED = 42"
   ]
  },
  {
   "cell_type": "markdown",
   "metadata": {
    "id": "t2HDvhIu9hEr"
   },
   "source": [
    "# Specify each path"
   ]
  },
  {
   "cell_type": "code",
   "execution_count": 2,
   "metadata": {
    "id": "9NvZP2Zn9hEy"
   },
   "outputs": [],
   "source": [
    "dataset = 'model/keypoint_classifier/keypoint.csv'\n",
    "model_save_path = 'model/keypoint_classifier/keypoint_classifier.hdf5'\n",
    "tflite_save_path = 'model/keypoint_classifier/keypoint_classifier.tflite'"
   ]
  },
  {
   "cell_type": "markdown",
   "metadata": {
    "id": "s5oMH7x19hEz"
   },
   "source": [
    "# Set number of classes"
   ]
  },
  {
   "cell_type": "code",
   "execution_count": 3,
   "metadata": {
    "id": "du4kodXL9hEz"
   },
   "outputs": [],
   "source": [
    "NUM_CLASSES = 7"
   ]
  },
  {
   "cell_type": "markdown",
   "metadata": {
    "id": "XjnL0uso9hEz"
   },
   "source": [
    "# Dataset reading"
   ]
  },
  {
   "cell_type": "code",
   "execution_count": 4,
   "metadata": {
    "id": "QT5ZqtEz9hE0"
   },
   "outputs": [],
   "source": [
    "X_dataset = np.loadtxt(dataset, delimiter=',', dtype='float32', usecols=list(range(1, (21 * 2) + 1)))"
   ]
  },
  {
   "cell_type": "code",
   "execution_count": 5,
   "metadata": {
    "id": "QmoKFsp49hE0"
   },
   "outputs": [],
   "source": [
    "y_dataset = np.loadtxt(dataset, delimiter=',', dtype='int32', usecols=(0))"
   ]
  },
  {
   "cell_type": "code",
   "execution_count": 6,
   "metadata": {
    "id": "xQU7JTZ_9hE0"
   },
   "outputs": [],
   "source": [
    "X_train, X_test, y_train, y_test = train_test_split(X_dataset, y_dataset, train_size=0.75, random_state=RANDOM_SEED)"
   ]
  },
  {
   "cell_type": "markdown",
   "metadata": {
    "id": "mxK_lETT9hE0"
   },
   "source": [
    "# Model building"
   ]
  },
  {
   "cell_type": "code",
   "execution_count": 7,
   "metadata": {
    "id": "vHBmUf1t9hE1"
   },
   "outputs": [
    {
     "name": "stdout",
     "output_type": "stream",
     "text": [
      "WARNING:tensorflow:From C:\\Users\\madar\\AppData\\Roaming\\Python\\Python311\\site-packages\\keras\\src\\backend.py:1398: The name tf.executing_eagerly_outside_functions is deprecated. Please use tf.compat.v1.executing_eagerly_outside_functions instead.\n",
      "\n"
     ]
    }
   ],
   "source": [
    "model = tf.keras.models.Sequential([\n",
    "    tf.keras.layers.Input((21 * 2, )),\n",
    "    tf.keras.layers.Dropout(0.2),\n",
    "    tf.keras.layers.Dense(20, activation='relu'),\n",
    "    tf.keras.layers.Dropout(0.4),\n",
    "    tf.keras.layers.Dense(10, activation='relu'),\n",
    "    tf.keras.layers.Dense(NUM_CLASSES, activation='softmax')\n",
    "])"
   ]
  },
  {
   "cell_type": "code",
   "execution_count": 8,
   "metadata": {
    "colab": {
     "base_uri": "https://localhost:8080/"
    },
    "id": "ypqky9tc9hE1",
    "outputId": "5db082bb-30e3-4110-bf63-a1ee777ecd46"
   },
   "outputs": [
    {
     "name": "stdout",
     "output_type": "stream",
     "text": [
      "Model: \"sequential\"\n",
      "_________________________________________________________________\n",
      " Layer (type)                Output Shape              Param #   \n",
      "=================================================================\n",
      " dropout (Dropout)           (None, 42)                0         \n",
      "                                                                 \n",
      " dense (Dense)               (None, 20)                860       \n",
      "                                                                 \n",
      " dropout_1 (Dropout)         (None, 20)                0         \n",
      "                                                                 \n",
      " dense_1 (Dense)             (None, 10)                210       \n",
      "                                                                 \n",
      " dense_2 (Dense)             (None, 7)                 77        \n",
      "                                                                 \n",
      "=================================================================\n",
      "Total params: 1147 (4.48 KB)\n",
      "Trainable params: 1147 (4.48 KB)\n",
      "Non-trainable params: 0 (0.00 Byte)\n",
      "_________________________________________________________________\n"
     ]
    }
   ],
   "source": [
    "model.summary()  # tf.keras.utils.plot_model(model, show_shapes=True)"
   ]
  },
  {
   "cell_type": "code",
   "execution_count": 9,
   "metadata": {
    "id": "MbMjOflQ9hE1"
   },
   "outputs": [],
   "source": [
    "# Model checkpoint callback\n",
    "cp_callback = tf.keras.callbacks.ModelCheckpoint(\n",
    "    model_save_path, verbose=1, save_weights_only=False)\n",
    "# Callback for early stopping\n",
    "es_callback = tf.keras.callbacks.EarlyStopping(patience=20, verbose=1)"
   ]
  },
  {
   "cell_type": "code",
   "execution_count": 10,
   "metadata": {
    "id": "c3Dac0M_9hE2"
   },
   "outputs": [
    {
     "name": "stdout",
     "output_type": "stream",
     "text": [
      "WARNING:tensorflow:From C:\\Users\\madar\\AppData\\Roaming\\Python\\Python311\\site-packages\\keras\\src\\optimizers\\__init__.py:309: The name tf.train.Optimizer is deprecated. Please use tf.compat.v1.train.Optimizer instead.\n",
      "\n"
     ]
    }
   ],
   "source": [
    "# Model compilation\n",
    "model.compile(\n",
    "    optimizer='adam',\n",
    "    loss='sparse_categorical_crossentropy',\n",
    "    metrics=['accuracy']\n",
    ")"
   ]
  },
  {
   "cell_type": "markdown",
   "metadata": {
    "id": "7XI0j1Iu9hE2"
   },
   "source": [
    "# Model training"
   ]
  },
  {
   "cell_type": "code",
   "execution_count": 11,
   "metadata": {
    "colab": {
     "base_uri": "https://localhost:8080/"
    },
    "id": "WirBl-JE9hE3",
    "outputId": "71b30ca2-8294-4d9d-8aa2-800d90d399de",
    "scrolled": true
   },
   "outputs": [
    {
     "name": "stdout",
     "output_type": "stream",
     "text": [
      "Epoch 1/1000\n",
      "WARNING:tensorflow:From C:\\Users\\madar\\AppData\\Roaming\\Python\\Python311\\site-packages\\keras\\src\\utils\\tf_utils.py:492: The name tf.ragged.RaggedTensorValue is deprecated. Please use tf.compat.v1.ragged.RaggedTensorValue instead.\n",
      "\n",
      "WARNING:tensorflow:From C:\\Users\\madar\\AppData\\Roaming\\Python\\Python311\\site-packages\\keras\\src\\engine\\base_layer_utils.py:384: The name tf.executing_eagerly_outside_functions is deprecated. Please use tf.compat.v1.executing_eagerly_outside_functions instead.\n",
      "\n",
      " 1/35 [..............................] - ETA: 13s - loss: 1.9844 - accuracy: 0.1016\n",
      "Epoch 1: saving model to model/keypoint_classifier\\keypoint_classifier.hdf5\n",
      "35/35 [==============================] - 1s 5ms/step - loss: 1.8591 - accuracy: 0.1812 - val_loss: 1.7411 - val_accuracy: 0.2407\n",
      "Epoch 2/1000\n",
      " 1/35 [..............................] - ETA: 0s - loss: 1.7876 - accuracy: 0.2188\n",
      "Epoch 2: saving model to model/keypoint_classifier\\keypoint_classifier.hdf5\n",
      "35/35 [==============================] - 0s 2ms/step - loss: 1.7455 - accuracy: 0.2262 - val_loss: 1.6631 - val_accuracy: 0.2401\n",
      "Epoch 3/1000\n",
      " 1/35 [..............................] - ETA: 0s - loss: 1.6278 - accuracy: 0.2031\n",
      "Epoch 3: saving model to model/keypoint_classifier\\keypoint_classifier.hdf5\n",
      "35/35 [==============================] - 0s 2ms/step - loss: 1.6919 - accuracy: 0.2495 - val_loss: 1.6085 - val_accuracy: 0.2634\n",
      "Epoch 4/1000\n",
      " 1/35 [..............................] - ETA: 0s - loss: 1.6258 - accuracy: 0.3359"
     ]
    },
    {
     "name": "stderr",
     "output_type": "stream",
     "text": [
      "C:\\Users\\madar\\AppData\\Roaming\\Python\\Python311\\site-packages\\keras\\src\\engine\\training.py:3103: UserWarning: You are saving your model as an HDF5 file via `model.save()`. This file format is considered legacy. We recommend using instead the native Keras format, e.g. `model.save('my_model.keras')`.\n",
      "  saving_api.save_model(\n"
     ]
    },
    {
     "name": "stdout",
     "output_type": "stream",
     "text": [
      "\n",
      "Epoch 4: saving model to model/keypoint_classifier\\keypoint_classifier.hdf5\n",
      "35/35 [==============================] - 0s 2ms/step - loss: 1.6427 - accuracy: 0.2969 - val_loss: 1.5512 - val_accuracy: 0.3525\n",
      "Epoch 5/1000\n",
      " 1/35 [..............................] - ETA: 0s - loss: 1.6362 - accuracy: 0.2500\n",
      "Epoch 5: saving model to model/keypoint_classifier\\keypoint_classifier.hdf5\n",
      "35/35 [==============================] - 0s 2ms/step - loss: 1.6007 - accuracy: 0.3147 - val_loss: 1.4963 - val_accuracy: 0.4177\n",
      "Epoch 6/1000\n",
      " 1/35 [..............................] - ETA: 0s - loss: 1.5865 - accuracy: 0.3672\n",
      "Epoch 6: saving model to model/keypoint_classifier\\keypoint_classifier.hdf5\n",
      "35/35 [==============================] - 0s 2ms/step - loss: 1.5651 - accuracy: 0.3351 - val_loss: 1.4414 - val_accuracy: 0.4499\n",
      "Epoch 7/1000\n",
      " 1/35 [..............................] - ETA: 0s - loss: 1.5714 - accuracy: 0.3438\n",
      "Epoch 7: saving model to model/keypoint_classifier\\keypoint_classifier.hdf5\n",
      "35/35 [==============================] - 0s 2ms/step - loss: 1.5257 - accuracy: 0.3625 - val_loss: 1.3863 - val_accuracy: 0.4787\n",
      "Epoch 8/1000\n",
      " 1/35 [..............................] - ETA: 0s - loss: 1.5251 - accuracy: 0.3750\n",
      "Epoch 8: saving model to model/keypoint_classifier\\keypoint_classifier.hdf5\n",
      "35/35 [==============================] - 0s 2ms/step - loss: 1.4799 - accuracy: 0.3941 - val_loss: 1.3282 - val_accuracy: 0.5261\n",
      "Epoch 9/1000\n",
      " 1/35 [..............................] - ETA: 0s - loss: 1.4593 - accuracy: 0.3672\n",
      "Epoch 9: saving model to model/keypoint_classifier\\keypoint_classifier.hdf5\n",
      "35/35 [==============================] - 0s 2ms/step - loss: 1.4413 - accuracy: 0.4243 - val_loss: 1.2768 - val_accuracy: 0.6056\n",
      "Epoch 10/1000\n",
      " 1/35 [..............................] - ETA: 0s - loss: 1.3568 - accuracy: 0.4375\n",
      "Epoch 10: saving model to model/keypoint_classifier\\keypoint_classifier.hdf5\n",
      "35/35 [==============================] - 0s 2ms/step - loss: 1.4094 - accuracy: 0.4389 - val_loss: 1.2305 - val_accuracy: 0.6358\n",
      "Epoch 11/1000\n",
      " 1/35 [..............................] - ETA: 0s - loss: 1.3582 - accuracy: 0.4609\n",
      "Epoch 11: saving model to model/keypoint_classifier\\keypoint_classifier.hdf5\n",
      "35/35 [==============================] - 0s 2ms/step - loss: 1.3704 - accuracy: 0.4561 - val_loss: 1.1922 - val_accuracy: 0.6433\n",
      "Epoch 12/1000\n",
      " 1/35 [..............................] - ETA: 0s - loss: 1.3854 - accuracy: 0.5234\n",
      "Epoch 12: saving model to model/keypoint_classifier\\keypoint_classifier.hdf5\n",
      "35/35 [==============================] - 0s 2ms/step - loss: 1.3510 - accuracy: 0.4746 - val_loss: 1.1476 - val_accuracy: 0.6776\n",
      "Epoch 13/1000\n",
      " 1/35 [..............................] - ETA: 0s - loss: 1.2546 - accuracy: 0.4922\n",
      "Epoch 13: saving model to model/keypoint_classifier\\keypoint_classifier.hdf5\n",
      "35/35 [==============================] - 0s 2ms/step - loss: 1.3359 - accuracy: 0.4694 - val_loss: 1.1225 - val_accuracy: 0.7064\n",
      "Epoch 14/1000\n",
      " 1/35 [..............................] - ETA: 0s - loss: 1.3063 - accuracy: 0.4922\n",
      "Epoch 14: saving model to model/keypoint_classifier\\keypoint_classifier.hdf5\n",
      "35/35 [==============================] - 0s 2ms/step - loss: 1.2986 - accuracy: 0.4936 - val_loss: 1.0772 - val_accuracy: 0.7064\n",
      "Epoch 15/1000\n",
      " 1/35 [..............................] - ETA: 0s - loss: 1.2050 - accuracy: 0.5469\n",
      "Epoch 15: saving model to model/keypoint_classifier\\keypoint_classifier.hdf5\n",
      "35/35 [==============================] - 0s 2ms/step - loss: 1.2688 - accuracy: 0.5021 - val_loss: 1.0385 - val_accuracy: 0.7257\n",
      "Epoch 16/1000\n",
      " 1/35 [..............................] - ETA: 0s - loss: 1.2471 - accuracy: 0.5156\n",
      "Epoch 16: saving model to model/keypoint_classifier\\keypoint_classifier.hdf5\n",
      "35/35 [==============================] - 0s 2ms/step - loss: 1.2538 - accuracy: 0.5050 - val_loss: 1.0001 - val_accuracy: 0.7394\n",
      "Epoch 17/1000\n",
      " 1/35 [..............................] - ETA: 0s - loss: 1.2742 - accuracy: 0.4766\n",
      "Epoch 17: saving model to model/keypoint_classifier\\keypoint_classifier.hdf5\n",
      "35/35 [==============================] - 0s 2ms/step - loss: 1.2161 - accuracy: 0.5297 - val_loss: 0.9574 - val_accuracy: 0.7407\n",
      "Epoch 18/1000\n",
      " 1/35 [..............................] - ETA: 0s - loss: 1.3666 - accuracy: 0.4297\n",
      "Epoch 18: saving model to model/keypoint_classifier\\keypoint_classifier.hdf5\n",
      "35/35 [==============================] - 0s 2ms/step - loss: 1.1935 - accuracy: 0.5350 - val_loss: 0.9214 - val_accuracy: 0.7579\n",
      "Epoch 19/1000\n",
      " 1/35 [..............................] - ETA: 0s - loss: 1.1125 - accuracy: 0.5625\n",
      "Epoch 19: saving model to model/keypoint_classifier\\keypoint_classifier.hdf5\n",
      "35/35 [==============================] - 0s 2ms/step - loss: 1.1591 - accuracy: 0.5544 - val_loss: 0.8832 - val_accuracy: 0.7641\n",
      "Epoch 20/1000\n",
      " 1/35 [..............................] - ETA: 0s - loss: 1.2399 - accuracy: 0.4844\n",
      "Epoch 20: saving model to model/keypoint_classifier\\keypoint_classifier.hdf5\n",
      "35/35 [==============================] - 0s 2ms/step - loss: 1.1520 - accuracy: 0.5462 - val_loss: 0.8463 - val_accuracy: 0.7840\n",
      "Epoch 21/1000\n",
      " 1/35 [..............................] - ETA: 0s - loss: 1.0915 - accuracy: 0.6094\n",
      "Epoch 21: saving model to model/keypoint_classifier\\keypoint_classifier.hdf5\n",
      "35/35 [==============================] - 0s 2ms/step - loss: 1.1342 - accuracy: 0.5622 - val_loss: 0.8162 - val_accuracy: 0.7936\n",
      "Epoch 22/1000\n",
      " 1/35 [..............................] - ETA: 0s - loss: 1.1241 - accuracy: 0.5547\n",
      "Epoch 22: saving model to model/keypoint_classifier\\keypoint_classifier.hdf5\n",
      "35/35 [==============================] - 0s 3ms/step - loss: 1.1261 - accuracy: 0.5531 - val_loss: 0.8038 - val_accuracy: 0.8004\n",
      "Epoch 23/1000\n",
      " 1/35 [..............................] - ETA: 0s - loss: 1.1523 - accuracy: 0.5625\n",
      "Epoch 23: saving model to model/keypoint_classifier\\keypoint_classifier.hdf5\n",
      "35/35 [==============================] - 0s 3ms/step - loss: 1.1085 - accuracy: 0.5693 - val_loss: 0.7816 - val_accuracy: 0.8100\n",
      "Epoch 24/1000\n",
      " 1/35 [..............................] - ETA: 0s - loss: 1.1615 - accuracy: 0.5625\n",
      "Epoch 24: saving model to model/keypoint_classifier\\keypoint_classifier.hdf5\n",
      "35/35 [==============================] - 0s 3ms/step - loss: 1.0952 - accuracy: 0.5741 - val_loss: 0.7649 - val_accuracy: 0.8045\n",
      "Epoch 25/1000\n",
      " 1/35 [..............................] - ETA: 0s - loss: 1.1507 - accuracy: 0.5703\n",
      "Epoch 25: saving model to model/keypoint_classifier\\keypoint_classifier.hdf5\n",
      "35/35 [==============================] - 0s 3ms/step - loss: 1.0852 - accuracy: 0.5883 - val_loss: 0.7418 - val_accuracy: 0.8121\n",
      "Epoch 26/1000\n",
      " 1/35 [..............................] - ETA: 0s - loss: 1.1421 - accuracy: 0.5312\n",
      "Epoch 26: saving model to model/keypoint_classifier\\keypoint_classifier.hdf5\n",
      "35/35 [==============================] - 0s 3ms/step - loss: 1.0538 - accuracy: 0.5954 - val_loss: 0.7306 - val_accuracy: 0.8073\n",
      "Epoch 27/1000\n",
      " 1/35 [..............................] - ETA: 0s - loss: 1.1221 - accuracy: 0.6250\n",
      "Epoch 27: saving model to model/keypoint_classifier\\keypoint_classifier.hdf5\n",
      "35/35 [==============================] - 0s 3ms/step - loss: 1.0641 - accuracy: 0.5881 - val_loss: 0.7206 - val_accuracy: 0.8155\n",
      "Epoch 28/1000\n",
      "35/35 [==============================] - ETA: 0s - loss: 1.0385 - accuracy: 0.5997\n",
      "Epoch 28: saving model to model/keypoint_classifier\\keypoint_classifier.hdf5\n",
      "35/35 [==============================] - 0s 3ms/step - loss: 1.0385 - accuracy: 0.5997 - val_loss: 0.7100 - val_accuracy: 0.8121\n",
      "Epoch 29/1000\n",
      "34/35 [============================>.] - ETA: 0s - loss: 1.0367 - accuracy: 0.6027\n",
      "Epoch 29: saving model to model/keypoint_classifier\\keypoint_classifier.hdf5\n",
      "35/35 [==============================] - 0s 4ms/step - loss: 1.0372 - accuracy: 0.6020 - val_loss: 0.6874 - val_accuracy: 0.8155\n",
      "Epoch 30/1000\n",
      " 1/35 [..............................] - ETA: 0s - loss: 0.9443 - accuracy: 0.6719\n",
      "Epoch 30: saving model to model/keypoint_classifier\\keypoint_classifier.hdf5\n",
      "35/35 [==============================] - 0s 3ms/step - loss: 1.0378 - accuracy: 0.5974 - val_loss: 0.6893 - val_accuracy: 0.8100\n",
      "Epoch 31/1000\n",
      "34/35 [============================>.] - ETA: 0s - loss: 1.0059 - accuracy: 0.6176\n",
      "Epoch 31: saving model to model/keypoint_classifier\\keypoint_classifier.hdf5\n",
      "35/35 [==============================] - 0s 3ms/step - loss: 1.0058 - accuracy: 0.6173 - val_loss: 0.6704 - val_accuracy: 0.8114\n",
      "Epoch 32/1000\n",
      " 1/35 [..............................] - ETA: 0s - loss: 1.0505 - accuracy: 0.5859\n",
      "Epoch 32: saving model to model/keypoint_classifier\\keypoint_classifier.hdf5\n",
      "35/35 [==============================] - 0s 3ms/step - loss: 1.0301 - accuracy: 0.5990 - val_loss: 0.6682 - val_accuracy: 0.8107\n",
      "Epoch 33/1000\n",
      "34/35 [============================>.] - ETA: 0s - loss: 1.0113 - accuracy: 0.6216\n",
      "Epoch 33: saving model to model/keypoint_classifier\\keypoint_classifier.hdf5\n",
      "35/35 [==============================] - 0s 3ms/step - loss: 1.0131 - accuracy: 0.6210 - val_loss: 0.6600 - val_accuracy: 0.8141\n",
      "Epoch 34/1000\n",
      " 1/35 [..............................] - ETA: 0s - loss: 0.9374 - accuracy: 0.6406\n",
      "Epoch 34: saving model to model/keypoint_classifier\\keypoint_classifier.hdf5\n",
      "35/35 [==============================] - 0s 3ms/step - loss: 1.0111 - accuracy: 0.6114 - val_loss: 0.6568 - val_accuracy: 0.8189\n",
      "Epoch 35/1000\n",
      " 1/35 [..............................] - ETA: 0s - loss: 1.0005 - accuracy: 0.6016\n",
      "Epoch 35: saving model to model/keypoint_classifier\\keypoint_classifier.hdf5\n",
      "35/35 [==============================] - 0s 3ms/step - loss: 1.0005 - accuracy: 0.6173 - val_loss: 0.6524 - val_accuracy: 0.8114\n",
      "Epoch 36/1000\n",
      " 1/35 [..............................] - ETA: 0s - loss: 0.9826 - accuracy: 0.6641\n",
      "Epoch 36: saving model to model/keypoint_classifier\\keypoint_classifier.hdf5\n",
      "35/35 [==============================] - 0s 3ms/step - loss: 0.9914 - accuracy: 0.6171 - val_loss: 0.6420 - val_accuracy: 0.8155\n",
      "Epoch 37/1000\n",
      " 1/35 [..............................] - ETA: 0s - loss: 0.9153 - accuracy: 0.5859\n",
      "Epoch 37: saving model to model/keypoint_classifier\\keypoint_classifier.hdf5\n",
      "35/35 [==============================] - 0s 3ms/step - loss: 0.9872 - accuracy: 0.6162 - val_loss: 0.6356 - val_accuracy: 0.8162\n",
      "Epoch 38/1000\n",
      "31/35 [=========================>....] - ETA: 0s - loss: 0.9910 - accuracy: 0.6232\n",
      "Epoch 38: saving model to model/keypoint_classifier\\keypoint_classifier.hdf5\n",
      "35/35 [==============================] - 0s 3ms/step - loss: 0.9915 - accuracy: 0.6235 - val_loss: 0.6245 - val_accuracy: 0.8162\n",
      "Epoch 39/1000\n",
      " 1/35 [..............................] - ETA: 0s - loss: 0.8870 - accuracy: 0.6484\n",
      "Epoch 39: saving model to model/keypoint_classifier\\keypoint_classifier.hdf5\n",
      "35/35 [==============================] - 0s 3ms/step - loss: 0.9778 - accuracy: 0.6267 - val_loss: 0.6205 - val_accuracy: 0.8189\n",
      "Epoch 40/1000\n",
      "34/35 [============================>.] - ETA: 0s - loss: 0.9789 - accuracy: 0.6307\n",
      "Epoch 40: saving model to model/keypoint_classifier\\keypoint_classifier.hdf5\n",
      "35/35 [==============================] - 0s 3ms/step - loss: 0.9801 - accuracy: 0.6304 - val_loss: 0.6187 - val_accuracy: 0.8224\n",
      "Epoch 41/1000\n",
      " 1/35 [..............................] - ETA: 0s - loss: 0.8289 - accuracy: 0.6797\n",
      "Epoch 41: saving model to model/keypoint_classifier\\keypoint_classifier.hdf5\n",
      "35/35 [==============================] - 0s 3ms/step - loss: 0.9744 - accuracy: 0.6308 - val_loss: 0.6171 - val_accuracy: 0.8210\n",
      "Epoch 42/1000\n",
      " 1/35 [..............................] - ETA: 0s - loss: 0.9226 - accuracy: 0.6484\n",
      "Epoch 42: saving model to model/keypoint_classifier\\keypoint_classifier.hdf5\n",
      "35/35 [==============================] - 0s 3ms/step - loss: 0.9805 - accuracy: 0.6304 - val_loss: 0.6217 - val_accuracy: 0.8141\n",
      "Epoch 43/1000\n",
      " 1/35 [..............................] - ETA: 0s - loss: 1.0411 - accuracy: 0.6250\n",
      "Epoch 43: saving model to model/keypoint_classifier\\keypoint_classifier.hdf5\n",
      "35/35 [==============================] - 0s 3ms/step - loss: 0.9641 - accuracy: 0.6375 - val_loss: 0.6056 - val_accuracy: 0.8224\n",
      "Epoch 44/1000\n",
      " 1/35 [..............................] - ETA: 0s - loss: 1.0205 - accuracy: 0.5781\n",
      "Epoch 44: saving model to model/keypoint_classifier\\keypoint_classifier.hdf5\n",
      "35/35 [==============================] - 0s 3ms/step - loss: 0.9503 - accuracy: 0.6370 - val_loss: 0.6020 - val_accuracy: 0.8217\n",
      "Epoch 45/1000\n",
      " 1/35 [..............................] - ETA: 0s - loss: 0.8439 - accuracy: 0.6719\n",
      "Epoch 45: saving model to model/keypoint_classifier\\keypoint_classifier.hdf5\n",
      "35/35 [==============================] - 0s 3ms/step - loss: 0.9448 - accuracy: 0.6443 - val_loss: 0.6015 - val_accuracy: 0.8258\n",
      "Epoch 46/1000\n",
      "33/35 [===========================>..] - ETA: 0s - loss: 0.9435 - accuracy: 0.6418\n",
      "Epoch 46: saving model to model/keypoint_classifier\\keypoint_classifier.hdf5\n",
      "35/35 [==============================] - 0s 4ms/step - loss: 0.9455 - accuracy: 0.6409 - val_loss: 0.5976 - val_accuracy: 0.8224\n",
      "Epoch 47/1000\n",
      " 1/35 [..............................] - ETA: 0s - loss: 0.9806 - accuracy: 0.6484\n",
      "Epoch 47: saving model to model/keypoint_classifier\\keypoint_classifier.hdf5\n",
      "35/35 [==============================] - 0s 3ms/step - loss: 0.9667 - accuracy: 0.6297 - val_loss: 0.5984 - val_accuracy: 0.8217\n",
      "Epoch 48/1000\n",
      "34/35 [============================>.] - ETA: 0s - loss: 0.9306 - accuracy: 0.6395\n",
      "Epoch 48: saving model to model/keypoint_classifier\\keypoint_classifier.hdf5\n",
      "35/35 [==============================] - 0s 4ms/step - loss: 0.9296 - accuracy: 0.6402 - val_loss: 0.5936 - val_accuracy: 0.8203\n",
      "Epoch 49/1000\n",
      "24/35 [===================>..........] - ETA: 0s - loss: 0.9193 - accuracy: 0.6465\n",
      "Epoch 49: saving model to model/keypoint_classifier\\keypoint_classifier.hdf5\n",
      "35/35 [==============================] - 0s 4ms/step - loss: 0.9214 - accuracy: 0.6462 - val_loss: 0.5845 - val_accuracy: 0.8210\n",
      "Epoch 50/1000\n",
      "33/35 [===========================>..] - ETA: 0s - loss: 0.9412 - accuracy: 0.6361\n",
      "Epoch 50: saving model to model/keypoint_classifier\\keypoint_classifier.hdf5\n",
      "35/35 [==============================] - 0s 3ms/step - loss: 0.9421 - accuracy: 0.6336 - val_loss: 0.5796 - val_accuracy: 0.8292\n",
      "Epoch 51/1000\n",
      " 1/35 [..............................] - ETA: 0s - loss: 1.0582 - accuracy: 0.5703\n",
      "Epoch 51: saving model to model/keypoint_classifier\\keypoint_classifier.hdf5\n",
      "35/35 [==============================] - 0s 3ms/step - loss: 0.9460 - accuracy: 0.6384 - val_loss: 0.5818 - val_accuracy: 0.8155\n",
      "Epoch 52/1000\n",
      "35/35 [==============================] - ETA: 0s - loss: 0.9184 - accuracy: 0.6471\n",
      "Epoch 52: saving model to model/keypoint_classifier\\keypoint_classifier.hdf5\n",
      "35/35 [==============================] - 0s 3ms/step - loss: 0.9184 - accuracy: 0.6471 - val_loss: 0.5796 - val_accuracy: 0.8244\n",
      "Epoch 53/1000\n",
      "33/35 [===========================>..] - ETA: 0s - loss: 0.9121 - accuracy: 0.6499\n",
      "Epoch 53: saving model to model/keypoint_classifier\\keypoint_classifier.hdf5\n",
      "35/35 [==============================] - 0s 3ms/step - loss: 0.9112 - accuracy: 0.6510 - val_loss: 0.5711 - val_accuracy: 0.8244\n",
      "Epoch 54/1000\n",
      "33/35 [===========================>..] - ETA: 0s - loss: 0.9362 - accuracy: 0.6439\n",
      "Epoch 54: saving model to model/keypoint_classifier\\keypoint_classifier.hdf5\n",
      "35/35 [==============================] - 0s 3ms/step - loss: 0.9360 - accuracy: 0.6450 - val_loss: 0.5674 - val_accuracy: 0.8272\n",
      "Epoch 55/1000\n",
      "32/35 [==========================>...] - ETA: 0s - loss: 0.9078 - accuracy: 0.6533\n",
      "Epoch 55: saving model to model/keypoint_classifier\\keypoint_classifier.hdf5\n",
      "35/35 [==============================] - 0s 3ms/step - loss: 0.9048 - accuracy: 0.6528 - val_loss: 0.5657 - val_accuracy: 0.8272\n",
      "Epoch 56/1000\n",
      " 1/35 [..............................] - ETA: 0s - loss: 1.0162 - accuracy: 0.6328\n",
      "Epoch 56: saving model to model/keypoint_classifier\\keypoint_classifier.hdf5\n",
      "35/35 [==============================] - 0s 3ms/step - loss: 0.9248 - accuracy: 0.6416 - val_loss: 0.5638 - val_accuracy: 0.8272\n",
      "Epoch 57/1000\n",
      " 1/35 [..............................] - ETA: 0s - loss: 0.9363 - accuracy: 0.6484\n",
      "Epoch 57: saving model to model/keypoint_classifier\\keypoint_classifier.hdf5\n",
      "35/35 [==============================] - 0s 3ms/step - loss: 0.9039 - accuracy: 0.6471 - val_loss: 0.5572 - val_accuracy: 0.8203\n",
      "Epoch 58/1000\n",
      "33/35 [===========================>..] - ETA: 0s - loss: 0.9105 - accuracy: 0.6555\n",
      "Epoch 58: saving model to model/keypoint_classifier\\keypoint_classifier.hdf5\n",
      "35/35 [==============================] - 0s 3ms/step - loss: 0.9077 - accuracy: 0.6562 - val_loss: 0.5559 - val_accuracy: 0.8278\n",
      "Epoch 59/1000\n",
      "35/35 [==============================] - ETA: 0s - loss: 0.9016 - accuracy: 0.6512\n",
      "Epoch 59: saving model to model/keypoint_classifier\\keypoint_classifier.hdf5\n",
      "35/35 [==============================] - 0s 3ms/step - loss: 0.9016 - accuracy: 0.6512 - val_loss: 0.5557 - val_accuracy: 0.8244\n",
      "Epoch 60/1000\n",
      " 1/35 [..............................] - ETA: 0s - loss: 0.9787 - accuracy: 0.6562\n",
      "Epoch 60: saving model to model/keypoint_classifier\\keypoint_classifier.hdf5\n",
      "35/35 [==============================] - 0s 3ms/step - loss: 0.9085 - accuracy: 0.6475 - val_loss: 0.5532 - val_accuracy: 0.8333\n",
      "Epoch 61/1000\n",
      " 1/35 [..............................] - ETA: 0s - loss: 0.8481 - accuracy: 0.6719\n",
      "Epoch 61: saving model to model/keypoint_classifier\\keypoint_classifier.hdf5\n",
      "35/35 [==============================] - 0s 3ms/step - loss: 0.8740 - accuracy: 0.6642 - val_loss: 0.5415 - val_accuracy: 0.8388\n",
      "Epoch 62/1000\n",
      "31/35 [=========================>....] - ETA: 0s - loss: 0.8896 - accuracy: 0.6643\n",
      "Epoch 62: saving model to model/keypoint_classifier\\keypoint_classifier.hdf5\n",
      "35/35 [==============================] - 0s 3ms/step - loss: 0.8879 - accuracy: 0.6645 - val_loss: 0.5429 - val_accuracy: 0.8443\n",
      "Epoch 63/1000\n",
      " 1/35 [..............................] - ETA: 0s - loss: 0.8297 - accuracy: 0.6641\n",
      "Epoch 63: saving model to model/keypoint_classifier\\keypoint_classifier.hdf5\n",
      "35/35 [==============================] - 0s 3ms/step - loss: 0.8840 - accuracy: 0.6569 - val_loss: 0.5345 - val_accuracy: 0.8443\n",
      "Epoch 64/1000\n",
      " 1/35 [..............................] - ETA: 0s - loss: 1.0479 - accuracy: 0.6328\n",
      "Epoch 64: saving model to model/keypoint_classifier\\keypoint_classifier.hdf5\n",
      "35/35 [==============================] - 0s 3ms/step - loss: 0.8920 - accuracy: 0.6665 - val_loss: 0.5390 - val_accuracy: 0.8416\n",
      "Epoch 65/1000\n",
      " 1/35 [..............................] - ETA: 0s - loss: 0.9448 - accuracy: 0.6250\n",
      "Epoch 65: saving model to model/keypoint_classifier\\keypoint_classifier.hdf5\n",
      "35/35 [==============================] - 0s 3ms/step - loss: 0.8675 - accuracy: 0.6731 - val_loss: 0.5357 - val_accuracy: 0.8374\n",
      "Epoch 66/1000\n",
      " 1/35 [..............................] - ETA: 0s - loss: 0.7924 - accuracy: 0.7188\n",
      "Epoch 66: saving model to model/keypoint_classifier\\keypoint_classifier.hdf5\n",
      "35/35 [==============================] - 0s 3ms/step - loss: 0.9030 - accuracy: 0.6608 - val_loss: 0.5381 - val_accuracy: 0.8381\n",
      "Epoch 67/1000\n",
      " 1/35 [..............................] - ETA: 0s - loss: 0.8973 - accuracy: 0.6094\n",
      "Epoch 67: saving model to model/keypoint_classifier\\keypoint_classifier.hdf5\n",
      "35/35 [==============================] - 0s 3ms/step - loss: 0.8783 - accuracy: 0.6619 - val_loss: 0.5239 - val_accuracy: 0.8443\n",
      "Epoch 68/1000\n",
      "32/35 [==========================>...] - ETA: 0s - loss: 0.8616 - accuracy: 0.6677\n",
      "Epoch 68: saving model to model/keypoint_classifier\\keypoint_classifier.hdf5\n",
      "35/35 [==============================] - 0s 3ms/step - loss: 0.8640 - accuracy: 0.6686 - val_loss: 0.5260 - val_accuracy: 0.8450\n",
      "Epoch 69/1000\n",
      " 1/35 [..............................] - ETA: 0s - loss: 0.8289 - accuracy: 0.7031\n",
      "Epoch 69: saving model to model/keypoint_classifier\\keypoint_classifier.hdf5\n",
      "35/35 [==============================] - 0s 3ms/step - loss: 0.8742 - accuracy: 0.6656 - val_loss: 0.5308 - val_accuracy: 0.8484\n",
      "Epoch 70/1000\n",
      " 1/35 [..............................] - ETA: 0s - loss: 0.9054 - accuracy: 0.6484\n",
      "Epoch 70: saving model to model/keypoint_classifier\\keypoint_classifier.hdf5\n",
      "35/35 [==============================] - 0s 3ms/step - loss: 0.8577 - accuracy: 0.6816 - val_loss: 0.5175 - val_accuracy: 0.8443\n",
      "Epoch 71/1000\n",
      "35/35 [==============================] - ETA: 0s - loss: 0.8668 - accuracy: 0.6720\n",
      "Epoch 71: saving model to model/keypoint_classifier\\keypoint_classifier.hdf5\n",
      "35/35 [==============================] - 0s 3ms/step - loss: 0.8668 - accuracy: 0.6720 - val_loss: 0.5187 - val_accuracy: 0.8532\n",
      "Epoch 72/1000\n",
      " 1/35 [..............................] - ETA: 0s - loss: 1.0352 - accuracy: 0.6562\n",
      "Epoch 72: saving model to model/keypoint_classifier\\keypoint_classifier.hdf5\n",
      "35/35 [==============================] - 0s 3ms/step - loss: 0.8732 - accuracy: 0.6672 - val_loss: 0.5185 - val_accuracy: 0.8587\n",
      "Epoch 73/1000\n",
      " 1/35 [..............................] - ETA: 0s - loss: 0.7781 - accuracy: 0.7109\n",
      "Epoch 73: saving model to model/keypoint_classifier\\keypoint_classifier.hdf5\n",
      "35/35 [==============================] - 0s 3ms/step - loss: 0.8527 - accuracy: 0.6757 - val_loss: 0.5193 - val_accuracy: 0.8546\n",
      "Epoch 74/1000\n",
      " 1/35 [..............................] - ETA: 0s - loss: 0.8721 - accuracy: 0.6875\n",
      "Epoch 74: saving model to model/keypoint_classifier\\keypoint_classifier.hdf5\n",
      "35/35 [==============================] - 0s 3ms/step - loss: 0.8522 - accuracy: 0.6745 - val_loss: 0.5098 - val_accuracy: 0.8532\n",
      "Epoch 75/1000\n",
      " 1/35 [..............................] - ETA: 0s - loss: 0.8951 - accuracy: 0.6328\n",
      "Epoch 75: saving model to model/keypoint_classifier\\keypoint_classifier.hdf5\n",
      "35/35 [==============================] - 0s 3ms/step - loss: 0.8647 - accuracy: 0.6734 - val_loss: 0.5173 - val_accuracy: 0.8649\n",
      "Epoch 76/1000\n",
      " 1/35 [..............................] - ETA: 0s - loss: 0.7909 - accuracy: 0.6953\n",
      "Epoch 76: saving model to model/keypoint_classifier\\keypoint_classifier.hdf5\n",
      "35/35 [==============================] - 0s 3ms/step - loss: 0.8400 - accuracy: 0.6731 - val_loss: 0.5129 - val_accuracy: 0.8573\n",
      "Epoch 77/1000\n",
      " 1/35 [..............................] - ETA: 0s - loss: 0.8813 - accuracy: 0.6406\n",
      "Epoch 77: saving model to model/keypoint_classifier\\keypoint_classifier.hdf5\n",
      "35/35 [==============================] - 0s 3ms/step - loss: 0.8587 - accuracy: 0.6796 - val_loss: 0.5090 - val_accuracy: 0.8676\n",
      "Epoch 78/1000\n",
      " 1/35 [..............................] - ETA: 0s - loss: 0.8316 - accuracy: 0.6797\n",
      "Epoch 78: saving model to model/keypoint_classifier\\keypoint_classifier.hdf5\n",
      "35/35 [==============================] - 0s 3ms/step - loss: 0.8727 - accuracy: 0.6741 - val_loss: 0.5074 - val_accuracy: 0.8628\n",
      "Epoch 79/1000\n",
      " 1/35 [..............................] - ETA: 0s - loss: 0.8292 - accuracy: 0.6875\n",
      "Epoch 79: saving model to model/keypoint_classifier\\keypoint_classifier.hdf5\n",
      "35/35 [==============================] - 0s 3ms/step - loss: 0.8639 - accuracy: 0.6690 - val_loss: 0.5031 - val_accuracy: 0.8724\n",
      "Epoch 80/1000\n",
      " 1/35 [..............................] - ETA: 0s - loss: 0.7535 - accuracy: 0.7109\n",
      "Epoch 80: saving model to model/keypoint_classifier\\keypoint_classifier.hdf5\n",
      "35/35 [==============================] - 0s 3ms/step - loss: 0.8513 - accuracy: 0.6690 - val_loss: 0.5023 - val_accuracy: 0.8656\n",
      "Epoch 81/1000\n",
      " 1/35 [..............................] - ETA: 0s - loss: 0.8630 - accuracy: 0.6719\n",
      "Epoch 81: saving model to model/keypoint_classifier\\keypoint_classifier.hdf5\n",
      "35/35 [==============================] - 0s 3ms/step - loss: 0.8553 - accuracy: 0.6709 - val_loss: 0.4965 - val_accuracy: 0.8724\n",
      "Epoch 82/1000\n",
      " 1/35 [..............................] - ETA: 0s - loss: 0.7476 - accuracy: 0.7422\n",
      "Epoch 82: saving model to model/keypoint_classifier\\keypoint_classifier.hdf5\n",
      "35/35 [==============================] - 0s 3ms/step - loss: 0.8713 - accuracy: 0.6695 - val_loss: 0.4973 - val_accuracy: 0.8834\n",
      "Epoch 83/1000\n",
      " 1/35 [..............................] - ETA: 0s - loss: 0.8139 - accuracy: 0.6875\n",
      "Epoch 83: saving model to model/keypoint_classifier\\keypoint_classifier.hdf5\n",
      "35/35 [==============================] - 0s 3ms/step - loss: 0.8340 - accuracy: 0.6885 - val_loss: 0.4993 - val_accuracy: 0.8779\n",
      "Epoch 84/1000\n",
      " 1/35 [..............................] - ETA: 0s - loss: 0.8196 - accuracy: 0.6875\n",
      "Epoch 84: saving model to model/keypoint_classifier\\keypoint_classifier.hdf5\n",
      "35/35 [==============================] - 0s 3ms/step - loss: 0.8611 - accuracy: 0.6683 - val_loss: 0.4946 - val_accuracy: 0.8731\n",
      "Epoch 85/1000\n",
      " 1/35 [..............................] - ETA: 0s - loss: 0.8902 - accuracy: 0.6250\n",
      "Epoch 85: saving model to model/keypoint_classifier\\keypoint_classifier.hdf5\n",
      "35/35 [==============================] - 0s 3ms/step - loss: 0.8365 - accuracy: 0.6837 - val_loss: 0.4924 - val_accuracy: 0.8841\n",
      "Epoch 86/1000\n",
      " 1/35 [..............................] - ETA: 0s - loss: 0.9156 - accuracy: 0.6719\n",
      "Epoch 86: saving model to model/keypoint_classifier\\keypoint_classifier.hdf5\n",
      "35/35 [==============================] - 0s 3ms/step - loss: 0.8471 - accuracy: 0.6816 - val_loss: 0.4938 - val_accuracy: 0.8813\n",
      "Epoch 87/1000\n",
      " 1/35 [..............................] - ETA: 0s - loss: 0.8519 - accuracy: 0.6562\n",
      "Epoch 87: saving model to model/keypoint_classifier\\keypoint_classifier.hdf5\n",
      "35/35 [==============================] - 0s 3ms/step - loss: 0.8519 - accuracy: 0.6750 - val_loss: 0.4861 - val_accuracy: 0.8855\n",
      "Epoch 88/1000\n",
      "35/35 [==============================] - ETA: 0s - loss: 0.8244 - accuracy: 0.6864\n",
      "Epoch 88: saving model to model/keypoint_classifier\\keypoint_classifier.hdf5\n",
      "35/35 [==============================] - 0s 3ms/step - loss: 0.8244 - accuracy: 0.6864 - val_loss: 0.4782 - val_accuracy: 0.8909\n",
      "Epoch 89/1000\n",
      " 1/35 [..............................] - ETA: 0s - loss: 0.9061 - accuracy: 0.6328\n",
      "Epoch 89: saving model to model/keypoint_classifier\\keypoint_classifier.hdf5\n",
      "35/35 [==============================] - 0s 3ms/step - loss: 0.8183 - accuracy: 0.6839 - val_loss: 0.4787 - val_accuracy: 0.8861\n",
      "Epoch 90/1000\n",
      " 1/35 [..............................] - ETA: 0s - loss: 0.7213 - accuracy: 0.7109\n",
      "Epoch 90: saving model to model/keypoint_classifier\\keypoint_classifier.hdf5\n",
      "35/35 [==============================] - 0s 3ms/step - loss: 0.8371 - accuracy: 0.6837 - val_loss: 0.4870 - val_accuracy: 0.8957\n",
      "Epoch 91/1000\n",
      " 1/35 [..............................] - ETA: 0s - loss: 0.8988 - accuracy: 0.6328\n",
      "Epoch 91: saving model to model/keypoint_classifier\\keypoint_classifier.hdf5\n",
      "35/35 [==============================] - 0s 3ms/step - loss: 0.8175 - accuracy: 0.6857 - val_loss: 0.4742 - val_accuracy: 0.8971\n",
      "Epoch 92/1000\n",
      " 1/35 [..............................] - ETA: 0s - loss: 0.8617 - accuracy: 0.7031\n",
      "Epoch 92: saving model to model/keypoint_classifier\\keypoint_classifier.hdf5\n",
      "35/35 [==============================] - 0s 3ms/step - loss: 0.8384 - accuracy: 0.6839 - val_loss: 0.4799 - val_accuracy: 0.8937\n",
      "Epoch 93/1000\n",
      " 1/35 [..............................] - ETA: 0s - loss: 0.9101 - accuracy: 0.6484\n",
      "Epoch 93: saving model to model/keypoint_classifier\\keypoint_classifier.hdf5\n",
      "35/35 [==============================] - 0s 3ms/step - loss: 0.8418 - accuracy: 0.6862 - val_loss: 0.4760 - val_accuracy: 0.8896\n",
      "Epoch 94/1000\n",
      " 1/35 [..............................] - ETA: 0s - loss: 0.6541 - accuracy: 0.7891\n",
      "Epoch 94: saving model to model/keypoint_classifier\\keypoint_classifier.hdf5\n",
      "35/35 [==============================] - 0s 3ms/step - loss: 0.8391 - accuracy: 0.6880 - val_loss: 0.4766 - val_accuracy: 0.8930\n",
      "Epoch 95/1000\n",
      "35/35 [==============================] - ETA: 0s - loss: 0.8281 - accuracy: 0.6882\n",
      "Epoch 95: saving model to model/keypoint_classifier\\keypoint_classifier.hdf5\n",
      "35/35 [==============================] - 0s 3ms/step - loss: 0.8281 - accuracy: 0.6882 - val_loss: 0.4746 - val_accuracy: 0.8964\n",
      "Epoch 96/1000\n",
      " 1/35 [..............................] - ETA: 0s - loss: 0.9136 - accuracy: 0.6562\n",
      "Epoch 96: saving model to model/keypoint_classifier\\keypoint_classifier.hdf5\n",
      "35/35 [==============================] - 0s 3ms/step - loss: 0.8209 - accuracy: 0.6956 - val_loss: 0.4727 - val_accuracy: 0.9005\n",
      "Epoch 97/1000\n",
      "34/35 [============================>.] - ETA: 0s - loss: 0.8256 - accuracy: 0.6854\n",
      "Epoch 97: saving model to model/keypoint_classifier\\keypoint_classifier.hdf5\n",
      "35/35 [==============================] - 0s 3ms/step - loss: 0.8265 - accuracy: 0.6850 - val_loss: 0.4722 - val_accuracy: 0.9005\n",
      "Epoch 98/1000\n",
      " 1/35 [..............................] - ETA: 0s - loss: 0.8774 - accuracy: 0.7344\n",
      "Epoch 98: saving model to model/keypoint_classifier\\keypoint_classifier.hdf5\n",
      "35/35 [==============================] - 0s 3ms/step - loss: 0.8232 - accuracy: 0.6880 - val_loss: 0.4833 - val_accuracy: 0.8992\n",
      "Epoch 99/1000\n",
      "35/35 [==============================] - ETA: 0s - loss: 0.8119 - accuracy: 0.6949\n",
      "Epoch 99: saving model to model/keypoint_classifier\\keypoint_classifier.hdf5\n",
      "35/35 [==============================] - 0s 3ms/step - loss: 0.8119 - accuracy: 0.6949 - val_loss: 0.4660 - val_accuracy: 0.9019\n",
      "Epoch 100/1000\n",
      " 1/35 [..............................] - ETA: 0s - loss: 0.6593 - accuracy: 0.7344\n",
      "Epoch 100: saving model to model/keypoint_classifier\\keypoint_classifier.hdf5\n",
      "35/35 [==============================] - 0s 3ms/step - loss: 0.7881 - accuracy: 0.7022 - val_loss: 0.4761 - val_accuracy: 0.8944\n",
      "Epoch 101/1000\n",
      "35/35 [==============================] - ETA: 0s - loss: 0.8032 - accuracy: 0.6926\n",
      "Epoch 101: saving model to model/keypoint_classifier\\keypoint_classifier.hdf5\n",
      "35/35 [==============================] - 0s 3ms/step - loss: 0.8032 - accuracy: 0.6926 - val_loss: 0.4662 - val_accuracy: 0.8978\n",
      "Epoch 102/1000\n",
      "35/35 [==============================] - ETA: 0s - loss: 0.8053 - accuracy: 0.6985\n",
      "Epoch 102: saving model to model/keypoint_classifier\\keypoint_classifier.hdf5\n",
      "35/35 [==============================] - 0s 3ms/step - loss: 0.8053 - accuracy: 0.6985 - val_loss: 0.4663 - val_accuracy: 0.9081\n",
      "Epoch 103/1000\n",
      "33/35 [===========================>..] - ETA: 0s - loss: 0.7987 - accuracy: 0.6951\n",
      "Epoch 103: saving model to model/keypoint_classifier\\keypoint_classifier.hdf5\n",
      "35/35 [==============================] - 0s 3ms/step - loss: 0.7992 - accuracy: 0.6949 - val_loss: 0.4610 - val_accuracy: 0.9033\n",
      "Epoch 104/1000\n",
      "34/35 [============================>.] - ETA: 0s - loss: 0.8221 - accuracy: 0.6868\n",
      "Epoch 104: saving model to model/keypoint_classifier\\keypoint_classifier.hdf5\n",
      "35/35 [==============================] - 0s 4ms/step - loss: 0.8204 - accuracy: 0.6878 - val_loss: 0.4514 - val_accuracy: 0.9005\n",
      "Epoch 105/1000\n",
      "33/35 [===========================>..] - ETA: 0s - loss: 0.8237 - accuracy: 0.6934\n",
      "Epoch 105: saving model to model/keypoint_classifier\\keypoint_classifier.hdf5\n",
      "35/35 [==============================] - 0s 3ms/step - loss: 0.8199 - accuracy: 0.6951 - val_loss: 0.4575 - val_accuracy: 0.8992\n",
      "Epoch 106/1000\n",
      " 1/35 [..............................] - ETA: 0s - loss: 0.7764 - accuracy: 0.7188\n",
      "Epoch 106: saving model to model/keypoint_classifier\\keypoint_classifier.hdf5\n",
      "35/35 [==============================] - 0s 3ms/step - loss: 0.8058 - accuracy: 0.6960 - val_loss: 0.4621 - val_accuracy: 0.9026\n",
      "Epoch 107/1000\n",
      "34/35 [============================>.] - ETA: 0s - loss: 0.8002 - accuracy: 0.7027\n",
      "Epoch 107: saving model to model/keypoint_classifier\\keypoint_classifier.hdf5\n",
      "35/35 [==============================] - 0s 3ms/step - loss: 0.8001 - accuracy: 0.7027 - val_loss: 0.4679 - val_accuracy: 0.8964\n",
      "Epoch 108/1000\n",
      " 1/35 [..............................] - ETA: 0s - loss: 0.8944 - accuracy: 0.6953\n",
      "Epoch 108: saving model to model/keypoint_classifier\\keypoint_classifier.hdf5\n",
      "35/35 [==============================] - 0s 3ms/step - loss: 0.7948 - accuracy: 0.7036 - val_loss: 0.4420 - val_accuracy: 0.9033\n",
      "Epoch 109/1000\n",
      " 1/35 [..............................] - ETA: 0s - loss: 0.9255 - accuracy: 0.7266\n",
      "Epoch 109: saving model to model/keypoint_classifier\\keypoint_classifier.hdf5\n",
      "35/35 [==============================] - 0s 3ms/step - loss: 0.7904 - accuracy: 0.6997 - val_loss: 0.4516 - val_accuracy: 0.8999\n",
      "Epoch 110/1000\n",
      " 1/35 [..............................] - ETA: 0s - loss: 0.9326 - accuracy: 0.6250\n",
      "Epoch 110: saving model to model/keypoint_classifier\\keypoint_classifier.hdf5\n",
      "35/35 [==============================] - 0s 3ms/step - loss: 0.7964 - accuracy: 0.6960 - val_loss: 0.4481 - val_accuracy: 0.9033\n",
      "Epoch 111/1000\n",
      " 1/35 [..............................] - ETA: 0s - loss: 0.8053 - accuracy: 0.6484\n",
      "Epoch 111: saving model to model/keypoint_classifier\\keypoint_classifier.hdf5\n",
      "35/35 [==============================] - 0s 3ms/step - loss: 0.8104 - accuracy: 0.6974 - val_loss: 0.4611 - val_accuracy: 0.9012\n",
      "Epoch 112/1000\n",
      " 1/35 [..............................] - ETA: 0s - loss: 0.9316 - accuracy: 0.6562\n",
      "Epoch 112: saving model to model/keypoint_classifier\\keypoint_classifier.hdf5\n",
      "35/35 [==============================] - 0s 3ms/step - loss: 0.8073 - accuracy: 0.6990 - val_loss: 0.4559 - val_accuracy: 0.9019\n",
      "Epoch 113/1000\n",
      " 1/35 [..............................] - ETA: 0s - loss: 0.8651 - accuracy: 0.6797\n",
      "Epoch 113: saving model to model/keypoint_classifier\\keypoint_classifier.hdf5\n",
      "35/35 [==============================] - 0s 3ms/step - loss: 0.8030 - accuracy: 0.7029 - val_loss: 0.4519 - val_accuracy: 0.8971\n",
      "Epoch 114/1000\n",
      " 1/35 [..............................] - ETA: 0s - loss: 0.6580 - accuracy: 0.7109\n",
      "Epoch 114: saving model to model/keypoint_classifier\\keypoint_classifier.hdf5\n",
      "35/35 [==============================] - 0s 3ms/step - loss: 0.8025 - accuracy: 0.6958 - val_loss: 0.4415 - val_accuracy: 0.8992\n",
      "Epoch 115/1000\n",
      " 1/35 [..............................] - ETA: 0s - loss: 0.9125 - accuracy: 0.6797\n",
      "Epoch 115: saving model to model/keypoint_classifier\\keypoint_classifier.hdf5\n",
      "35/35 [==============================] - 0s 3ms/step - loss: 0.8035 - accuracy: 0.7049 - val_loss: 0.4452 - val_accuracy: 0.8999\n",
      "Epoch 116/1000\n",
      "35/35 [==============================] - ETA: 0s - loss: 0.7841 - accuracy: 0.6978\n",
      "Epoch 116: saving model to model/keypoint_classifier\\keypoint_classifier.hdf5\n",
      "35/35 [==============================] - 0s 3ms/step - loss: 0.7841 - accuracy: 0.6978 - val_loss: 0.4454 - val_accuracy: 0.9047\n",
      "Epoch 117/1000\n",
      " 1/35 [..............................] - ETA: 0s - loss: 0.8606 - accuracy: 0.6719\n",
      "Epoch 117: saving model to model/keypoint_classifier\\keypoint_classifier.hdf5\n",
      "35/35 [==============================] - 0s 3ms/step - loss: 0.7926 - accuracy: 0.6958 - val_loss: 0.4454 - val_accuracy: 0.9067\n",
      "Epoch 118/1000\n",
      " 1/35 [..............................] - ETA: 0s - loss: 0.7509 - accuracy: 0.7109\n",
      "Epoch 118: saving model to model/keypoint_classifier\\keypoint_classifier.hdf5\n",
      "35/35 [==============================] - 0s 3ms/step - loss: 0.7673 - accuracy: 0.7091 - val_loss: 0.4384 - val_accuracy: 0.9040\n",
      "Epoch 119/1000\n",
      " 1/35 [..............................] - ETA: 0s - loss: 0.7815 - accuracy: 0.6797\n",
      "Epoch 119: saving model to model/keypoint_classifier\\keypoint_classifier.hdf5\n",
      "35/35 [==============================] - 0s 3ms/step - loss: 0.7939 - accuracy: 0.7043 - val_loss: 0.4461 - val_accuracy: 0.9067\n",
      "Epoch 120/1000\n",
      " 1/35 [..............................] - ETA: 0s - loss: 0.6488 - accuracy: 0.7734\n",
      "Epoch 120: saving model to model/keypoint_classifier\\keypoint_classifier.hdf5\n",
      "35/35 [==============================] - 0s 3ms/step - loss: 0.8021 - accuracy: 0.6988 - val_loss: 0.4489 - val_accuracy: 0.9074\n",
      "Epoch 121/1000\n",
      "35/35 [==============================] - ETA: 0s - loss: 0.7987 - accuracy: 0.7008\n",
      "Epoch 121: saving model to model/keypoint_classifier\\keypoint_classifier.hdf5\n",
      "35/35 [==============================] - 0s 3ms/step - loss: 0.7987 - accuracy: 0.7008 - val_loss: 0.4415 - val_accuracy: 0.9108\n",
      "Epoch 122/1000\n",
      "34/35 [============================>.] - ETA: 0s - loss: 0.7981 - accuracy: 0.6972\n",
      "Epoch 122: saving model to model/keypoint_classifier\\keypoint_classifier.hdf5\n",
      "35/35 [==============================] - 0s 3ms/step - loss: 0.8015 - accuracy: 0.6967 - val_loss: 0.4353 - val_accuracy: 0.9074\n",
      "Epoch 123/1000\n",
      "35/35 [==============================] - ETA: 0s - loss: 0.7954 - accuracy: 0.6988\n",
      "Epoch 123: saving model to model/keypoint_classifier\\keypoint_classifier.hdf5\n",
      "35/35 [==============================] - 0s 3ms/step - loss: 0.7954 - accuracy: 0.6988 - val_loss: 0.4457 - val_accuracy: 0.9081\n",
      "Epoch 124/1000\n",
      " 1/35 [..............................] - ETA: 0s - loss: 0.7171 - accuracy: 0.7109\n",
      "Epoch 124: saving model to model/keypoint_classifier\\keypoint_classifier.hdf5\n",
      "35/35 [==============================] - 0s 3ms/step - loss: 0.7785 - accuracy: 0.7027 - val_loss: 0.4531 - val_accuracy: 0.8999\n",
      "Epoch 125/1000\n",
      "34/35 [============================>.] - ETA: 0s - loss: 0.7941 - accuracy: 0.7091\n",
      "Epoch 125: saving model to model/keypoint_classifier\\keypoint_classifier.hdf5\n",
      "35/35 [==============================] - 0s 3ms/step - loss: 0.7940 - accuracy: 0.7091 - val_loss: 0.4447 - val_accuracy: 0.9033\n",
      "Epoch 126/1000\n",
      " 1/35 [..............................] - ETA: 0s - loss: 0.7660 - accuracy: 0.7109\n",
      "Epoch 126: saving model to model/keypoint_classifier\\keypoint_classifier.hdf5\n",
      "35/35 [==============================] - 0s 3ms/step - loss: 0.7916 - accuracy: 0.7043 - val_loss: 0.4481 - val_accuracy: 0.9019\n",
      "Epoch 127/1000\n",
      " 1/35 [..............................] - ETA: 0s - loss: 0.6489 - accuracy: 0.7812\n",
      "Epoch 127: saving model to model/keypoint_classifier\\keypoint_classifier.hdf5\n",
      "35/35 [==============================] - 0s 3ms/step - loss: 0.7906 - accuracy: 0.7070 - val_loss: 0.4436 - val_accuracy: 0.9019\n",
      "Epoch 128/1000\n",
      " 1/35 [..............................] - ETA: 0s - loss: 0.8077 - accuracy: 0.6875\n",
      "Epoch 128: saving model to model/keypoint_classifier\\keypoint_classifier.hdf5\n",
      "35/35 [==============================] - 0s 3ms/step - loss: 0.7808 - accuracy: 0.7077 - val_loss: 0.4430 - val_accuracy: 0.9047\n",
      "Epoch 129/1000\n",
      " 1/35 [..............................] - ETA: 0s - loss: 0.8806 - accuracy: 0.6328\n",
      "Epoch 129: saving model to model/keypoint_classifier\\keypoint_classifier.hdf5\n",
      "35/35 [==============================] - 0s 4ms/step - loss: 0.8049 - accuracy: 0.6946 - val_loss: 0.4511 - val_accuracy: 0.9053\n",
      "Epoch 130/1000\n",
      " 1/35 [..............................] - ETA: 0s - loss: 0.6783 - accuracy: 0.7734\n",
      "Epoch 130: saving model to model/keypoint_classifier\\keypoint_classifier.hdf5\n",
      "35/35 [==============================] - 0s 3ms/step - loss: 0.7763 - accuracy: 0.7111 - val_loss: 0.4413 - val_accuracy: 0.9060\n",
      "Epoch 131/1000\n",
      " 1/35 [..............................] - ETA: 0s - loss: 0.8351 - accuracy: 0.6641\n",
      "Epoch 131: saving model to model/keypoint_classifier\\keypoint_classifier.hdf5\n",
      "35/35 [==============================] - 0s 3ms/step - loss: 0.7843 - accuracy: 0.7006 - val_loss: 0.4420 - val_accuracy: 0.9019\n",
      "Epoch 132/1000\n",
      " 1/35 [..............................] - ETA: 0s - loss: 0.8030 - accuracy: 0.6641\n",
      "Epoch 132: saving model to model/keypoint_classifier\\keypoint_classifier.hdf5\n",
      "35/35 [==============================] - 0s 3ms/step - loss: 0.7876 - accuracy: 0.7054 - val_loss: 0.4356 - val_accuracy: 0.9108\n",
      "Epoch 133/1000\n",
      "34/35 [============================>.] - ETA: 0s - loss: 0.7651 - accuracy: 0.7109\n",
      "Epoch 133: saving model to model/keypoint_classifier\\keypoint_classifier.hdf5\n",
      "35/35 [==============================] - 0s 3ms/step - loss: 0.7631 - accuracy: 0.7120 - val_loss: 0.4374 - val_accuracy: 0.9074\n",
      "Epoch 134/1000\n",
      " 1/35 [..............................] - ETA: 0s - loss: 0.6173 - accuracy: 0.8125\n",
      "Epoch 134: saving model to model/keypoint_classifier\\keypoint_classifier.hdf5\n",
      "35/35 [==============================] - 0s 3ms/step - loss: 0.7851 - accuracy: 0.7029 - val_loss: 0.4347 - val_accuracy: 0.9012\n",
      "Epoch 135/1000\n",
      " 1/35 [..............................] - ETA: 0s - loss: 0.6879 - accuracy: 0.7344\n",
      "Epoch 135: saving model to model/keypoint_classifier\\keypoint_classifier.hdf5\n",
      "35/35 [==============================] - 0s 3ms/step - loss: 0.7698 - accuracy: 0.7063 - val_loss: 0.4356 - val_accuracy: 0.9033\n",
      "Epoch 136/1000\n",
      " 1/35 [..............................] - ETA: 0s - loss: 0.7831 - accuracy: 0.7266\n",
      "Epoch 136: saving model to model/keypoint_classifier\\keypoint_classifier.hdf5\n",
      "35/35 [==============================] - 0s 3ms/step - loss: 0.7817 - accuracy: 0.7109 - val_loss: 0.4410 - val_accuracy: 0.9019\n",
      "Epoch 137/1000\n",
      " 1/35 [..............................] - ETA: 0s - loss: 0.7485 - accuracy: 0.6953\n",
      "Epoch 137: saving model to model/keypoint_classifier\\keypoint_classifier.hdf5\n",
      "35/35 [==============================] - 0s 3ms/step - loss: 0.7835 - accuracy: 0.7043 - val_loss: 0.4364 - val_accuracy: 0.9053\n",
      "Epoch 138/1000\n",
      " 1/35 [..............................] - ETA: 0s - loss: 0.6343 - accuracy: 0.8359\n",
      "Epoch 138: saving model to model/keypoint_classifier\\keypoint_classifier.hdf5\n",
      "35/35 [==============================] - 0s 3ms/step - loss: 0.7646 - accuracy: 0.7125 - val_loss: 0.4462 - val_accuracy: 0.9019\n",
      "Epoch 139/1000\n",
      " 1/35 [..............................] - ETA: 0s - loss: 0.8457 - accuracy: 0.6484\n",
      "Epoch 139: saving model to model/keypoint_classifier\\keypoint_classifier.hdf5\n",
      "35/35 [==============================] - 0s 3ms/step - loss: 0.7848 - accuracy: 0.7047 - val_loss: 0.4323 - val_accuracy: 0.9060\n",
      "Epoch 140/1000\n",
      " 1/35 [..............................] - ETA: 0s - loss: 0.7563 - accuracy: 0.7188\n",
      "Epoch 140: saving model to model/keypoint_classifier\\keypoint_classifier.hdf5\n",
      "35/35 [==============================] - 0s 3ms/step - loss: 0.7756 - accuracy: 0.7065 - val_loss: 0.4325 - val_accuracy: 0.9040\n",
      "Epoch 141/1000\n",
      " 1/35 [..............................] - ETA: 0s - loss: 0.7920 - accuracy: 0.6953\n",
      "Epoch 141: saving model to model/keypoint_classifier\\keypoint_classifier.hdf5\n",
      "35/35 [==============================] - 0s 3ms/step - loss: 0.7787 - accuracy: 0.7049 - val_loss: 0.4408 - val_accuracy: 0.9040\n",
      "Epoch 142/1000\n",
      " 1/35 [..............................] - ETA: 0s - loss: 0.7757 - accuracy: 0.6797\n",
      "Epoch 142: saving model to model/keypoint_classifier\\keypoint_classifier.hdf5\n",
      "35/35 [==============================] - 0s 3ms/step - loss: 0.7655 - accuracy: 0.7168 - val_loss: 0.4255 - val_accuracy: 0.9102\n",
      "Epoch 143/1000\n",
      " 1/35 [..............................] - ETA: 0s - loss: 0.7348 - accuracy: 0.6875\n",
      "Epoch 143: saving model to model/keypoint_classifier\\keypoint_classifier.hdf5\n",
      "35/35 [==============================] - 0s 3ms/step - loss: 0.7630 - accuracy: 0.7088 - val_loss: 0.4247 - val_accuracy: 0.9108\n",
      "Epoch 144/1000\n",
      " 1/35 [..............................] - ETA: 0s - loss: 0.7402 - accuracy: 0.7188\n",
      "Epoch 144: saving model to model/keypoint_classifier\\keypoint_classifier.hdf5\n",
      "35/35 [==============================] - 0s 3ms/step - loss: 0.7642 - accuracy: 0.7120 - val_loss: 0.4313 - val_accuracy: 0.9060\n",
      "Epoch 145/1000\n",
      " 1/35 [..............................] - ETA: 0s - loss: 0.7648 - accuracy: 0.7109\n",
      "Epoch 145: saving model to model/keypoint_classifier\\keypoint_classifier.hdf5\n",
      "35/35 [==============================] - 0s 3ms/step - loss: 0.7383 - accuracy: 0.7180 - val_loss: 0.4363 - val_accuracy: 0.9019\n",
      "Epoch 146/1000\n",
      " 1/35 [..............................] - ETA: 0s - loss: 0.7134 - accuracy: 0.7109\n",
      "Epoch 146: saving model to model/keypoint_classifier\\keypoint_classifier.hdf5\n",
      "35/35 [==============================] - 0s 3ms/step - loss: 0.7557 - accuracy: 0.7111 - val_loss: 0.4245 - val_accuracy: 0.9053\n",
      "Epoch 147/1000\n",
      " 1/35 [..............................] - ETA: 0s - loss: 0.7229 - accuracy: 0.7422\n",
      "Epoch 147: saving model to model/keypoint_classifier\\keypoint_classifier.hdf5\n",
      "35/35 [==============================] - 0s 3ms/step - loss: 0.7421 - accuracy: 0.7226 - val_loss: 0.4207 - val_accuracy: 0.9081\n",
      "Epoch 148/1000\n",
      " 1/35 [..............................] - ETA: 0s - loss: 0.7458 - accuracy: 0.7500\n",
      "Epoch 148: saving model to model/keypoint_classifier\\keypoint_classifier.hdf5\n",
      "35/35 [==============================] - 0s 3ms/step - loss: 0.7745 - accuracy: 0.7125 - val_loss: 0.4312 - val_accuracy: 0.9060\n",
      "Epoch 149/1000\n",
      " 1/35 [..............................] - ETA: 0s - loss: 0.7573 - accuracy: 0.7422\n",
      "Epoch 149: saving model to model/keypoint_classifier\\keypoint_classifier.hdf5\n",
      "35/35 [==============================] - 0s 3ms/step - loss: 0.7804 - accuracy: 0.7100 - val_loss: 0.4272 - val_accuracy: 0.9067\n",
      "Epoch 150/1000\n",
      " 1/35 [..............................] - ETA: 0s - loss: 0.7965 - accuracy: 0.6797\n",
      "Epoch 150: saving model to model/keypoint_classifier\\keypoint_classifier.hdf5\n",
      "35/35 [==============================] - 0s 3ms/step - loss: 0.7628 - accuracy: 0.7079 - val_loss: 0.4356 - val_accuracy: 0.9012\n",
      "Epoch 151/1000\n",
      " 1/35 [..............................] - ETA: 0s - loss: 0.8345 - accuracy: 0.7031\n",
      "Epoch 151: saving model to model/keypoint_classifier\\keypoint_classifier.hdf5\n",
      "35/35 [==============================] - 0s 3ms/step - loss: 0.7709 - accuracy: 0.7072 - val_loss: 0.4330 - val_accuracy: 0.9102\n",
      "Epoch 152/1000\n",
      " 1/35 [..............................] - ETA: 0s - loss: 0.7208 - accuracy: 0.7500\n",
      "Epoch 152: saving model to model/keypoint_classifier\\keypoint_classifier.hdf5\n",
      "35/35 [==============================] - 0s 3ms/step - loss: 0.7694 - accuracy: 0.7132 - val_loss: 0.4301 - val_accuracy: 0.9012\n",
      "Epoch 153/1000\n",
      " 1/35 [..............................] - ETA: 0s - loss: 0.6958 - accuracy: 0.7266\n",
      "Epoch 153: saving model to model/keypoint_classifier\\keypoint_classifier.hdf5\n",
      "35/35 [==============================] - 0s 3ms/step - loss: 0.7532 - accuracy: 0.7177 - val_loss: 0.4214 - val_accuracy: 0.9067\n",
      "Epoch 154/1000\n",
      " 1/35 [..............................] - ETA: 0s - loss: 0.6998 - accuracy: 0.7734\n",
      "Epoch 154: saving model to model/keypoint_classifier\\keypoint_classifier.hdf5\n",
      "35/35 [==============================] - 0s 3ms/step - loss: 0.7566 - accuracy: 0.7173 - val_loss: 0.4262 - val_accuracy: 0.9102\n",
      "Epoch 155/1000\n",
      " 1/35 [..............................] - ETA: 0s - loss: 0.7479 - accuracy: 0.8125\n",
      "Epoch 155: saving model to model/keypoint_classifier\\keypoint_classifier.hdf5\n",
      "35/35 [==============================] - 0s 3ms/step - loss: 0.7410 - accuracy: 0.7237 - val_loss: 0.4258 - val_accuracy: 0.9033\n",
      "Epoch 156/1000\n",
      " 1/35 [..............................] - ETA: 0s - loss: 0.7779 - accuracy: 0.6875\n",
      "Epoch 156: saving model to model/keypoint_classifier\\keypoint_classifier.hdf5\n",
      "35/35 [==============================] - 0s 3ms/step - loss: 0.7469 - accuracy: 0.7155 - val_loss: 0.4141 - val_accuracy: 0.9156\n",
      "Epoch 157/1000\n",
      " 1/35 [..............................] - ETA: 0s - loss: 0.7813 - accuracy: 0.7109\n",
      "Epoch 157: saving model to model/keypoint_classifier\\keypoint_classifier.hdf5\n",
      "35/35 [==============================] - 0s 3ms/step - loss: 0.7541 - accuracy: 0.7102 - val_loss: 0.4234 - val_accuracy: 0.9053\n",
      "Epoch 158/1000\n",
      " 1/35 [..............................] - ETA: 0s - loss: 0.6018 - accuracy: 0.8047\n",
      "Epoch 158: saving model to model/keypoint_classifier\\keypoint_classifier.hdf5\n",
      "35/35 [==============================] - 0s 3ms/step - loss: 0.7352 - accuracy: 0.7239 - val_loss: 0.4292 - val_accuracy: 0.9095\n",
      "Epoch 159/1000\n",
      " 1/35 [..............................] - ETA: 0s - loss: 0.7139 - accuracy: 0.7109\n",
      "Epoch 159: saving model to model/keypoint_classifier\\keypoint_classifier.hdf5\n",
      "35/35 [==============================] - 0s 3ms/step - loss: 0.7430 - accuracy: 0.7171 - val_loss: 0.4287 - val_accuracy: 0.9033\n",
      "Epoch 160/1000\n",
      " 1/35 [..............................] - ETA: 0s - loss: 0.7297 - accuracy: 0.7812\n",
      "Epoch 160: saving model to model/keypoint_classifier\\keypoint_classifier.hdf5\n",
      "35/35 [==============================] - 0s 3ms/step - loss: 0.7583 - accuracy: 0.7253 - val_loss: 0.4111 - val_accuracy: 0.9081\n",
      "Epoch 161/1000\n",
      " 1/35 [..............................] - ETA: 0s - loss: 0.5876 - accuracy: 0.7734\n",
      "Epoch 161: saving model to model/keypoint_classifier\\keypoint_classifier.hdf5\n",
      "35/35 [==============================] - 0s 3ms/step - loss: 0.7632 - accuracy: 0.7187 - val_loss: 0.4243 - val_accuracy: 0.9026\n",
      "Epoch 162/1000\n",
      " 1/35 [..............................] - ETA: 0s - loss: 0.7902 - accuracy: 0.7500\n",
      "Epoch 162: saving model to model/keypoint_classifier\\keypoint_classifier.hdf5\n",
      "35/35 [==============================] - 0s 3ms/step - loss: 0.7586 - accuracy: 0.7139 - val_loss: 0.4200 - val_accuracy: 0.9081\n",
      "Epoch 163/1000\n",
      " 1/35 [..............................] - ETA: 0s - loss: 0.6695 - accuracy: 0.7891\n",
      "Epoch 163: saving model to model/keypoint_classifier\\keypoint_classifier.hdf5\n",
      "35/35 [==============================] - 0s 3ms/step - loss: 0.7693 - accuracy: 0.7116 - val_loss: 0.4235 - val_accuracy: 0.9122\n",
      "Epoch 164/1000\n",
      " 1/35 [..............................] - ETA: 0s - loss: 0.7190 - accuracy: 0.7266\n",
      "Epoch 164: saving model to model/keypoint_classifier\\keypoint_classifier.hdf5\n",
      "35/35 [==============================] - 0s 3ms/step - loss: 0.7365 - accuracy: 0.7221 - val_loss: 0.4192 - val_accuracy: 0.9122\n",
      "Epoch 165/1000\n",
      " 1/35 [..............................] - ETA: 0s - loss: 0.7182 - accuracy: 0.7266\n",
      "Epoch 165: saving model to model/keypoint_classifier\\keypoint_classifier.hdf5\n",
      "35/35 [==============================] - 0s 3ms/step - loss: 0.7599 - accuracy: 0.7143 - val_loss: 0.4234 - val_accuracy: 0.9102\n",
      "Epoch 166/1000\n",
      " 1/35 [..............................] - ETA: 0s - loss: 0.7231 - accuracy: 0.6875\n",
      "Epoch 166: saving model to model/keypoint_classifier\\keypoint_classifier.hdf5\n",
      "35/35 [==============================] - 0s 3ms/step - loss: 0.7543 - accuracy: 0.7187 - val_loss: 0.4202 - val_accuracy: 0.9081\n",
      "Epoch 167/1000\n",
      " 1/35 [..............................] - ETA: 0s - loss: 0.9324 - accuracy: 0.6250\n",
      "Epoch 167: saving model to model/keypoint_classifier\\keypoint_classifier.hdf5\n",
      "35/35 [==============================] - 0s 3ms/step - loss: 0.7593 - accuracy: 0.7065 - val_loss: 0.4244 - val_accuracy: 0.9122\n",
      "Epoch 168/1000\n",
      "35/35 [==============================] - ETA: 0s - loss: 0.7552 - accuracy: 0.7168\n",
      "Epoch 168: saving model to model/keypoint_classifier\\keypoint_classifier.hdf5\n",
      "35/35 [==============================] - 0s 3ms/step - loss: 0.7552 - accuracy: 0.7168 - val_loss: 0.4218 - val_accuracy: 0.9040\n",
      "Epoch 169/1000\n",
      " 1/35 [..............................] - ETA: 0s - loss: 0.7341 - accuracy: 0.7266\n",
      "Epoch 169: saving model to model/keypoint_classifier\\keypoint_classifier.hdf5\n",
      "35/35 [==============================] - 0s 3ms/step - loss: 0.7620 - accuracy: 0.7125 - val_loss: 0.4315 - val_accuracy: 0.9033\n",
      "Epoch 170/1000\n",
      " 1/35 [..............................] - ETA: 0s - loss: 0.7031 - accuracy: 0.7188\n",
      "Epoch 170: saving model to model/keypoint_classifier\\keypoint_classifier.hdf5\n",
      "35/35 [==============================] - 0s 3ms/step - loss: 0.7597 - accuracy: 0.7118 - val_loss: 0.4186 - val_accuracy: 0.9102\n",
      "Epoch 171/1000\n",
      " 1/35 [..............................] - ETA: 0s - loss: 0.6447 - accuracy: 0.7578\n",
      "Epoch 171: saving model to model/keypoint_classifier\\keypoint_classifier.hdf5\n",
      "35/35 [==============================] - 0s 3ms/step - loss: 0.7312 - accuracy: 0.7237 - val_loss: 0.4168 - val_accuracy: 0.9047\n",
      "Epoch 172/1000\n",
      " 1/35 [..............................] - ETA: 0s - loss: 0.6230 - accuracy: 0.7891\n",
      "Epoch 172: saving model to model/keypoint_classifier\\keypoint_classifier.hdf5\n",
      "35/35 [==============================] - 0s 3ms/step - loss: 0.7259 - accuracy: 0.7271 - val_loss: 0.4166 - val_accuracy: 0.9067\n",
      "Epoch 173/1000\n",
      " 1/35 [..............................] - ETA: 0s - loss: 0.6794 - accuracy: 0.7656\n",
      "Epoch 173: saving model to model/keypoint_classifier\\keypoint_classifier.hdf5\n",
      "35/35 [==============================] - 0s 3ms/step - loss: 0.7432 - accuracy: 0.7200 - val_loss: 0.4044 - val_accuracy: 0.9122\n",
      "Epoch 174/1000\n",
      " 1/35 [..............................] - ETA: 0s - loss: 0.5848 - accuracy: 0.8125\n",
      "Epoch 174: saving model to model/keypoint_classifier\\keypoint_classifier.hdf5\n",
      "35/35 [==============================] - 0s 3ms/step - loss: 0.7267 - accuracy: 0.7306 - val_loss: 0.4147 - val_accuracy: 0.9088\n",
      "Epoch 175/1000\n",
      " 1/35 [..............................] - ETA: 0s - loss: 0.6986 - accuracy: 0.7344\n",
      "Epoch 175: saving model to model/keypoint_classifier\\keypoint_classifier.hdf5\n",
      "35/35 [==============================] - 0s 3ms/step - loss: 0.7411 - accuracy: 0.7221 - val_loss: 0.4268 - val_accuracy: 0.9047\n",
      "Epoch 176/1000\n",
      " 1/35 [..............................] - ETA: 0s - loss: 0.6194 - accuracy: 0.7891\n",
      "Epoch 176: saving model to model/keypoint_classifier\\keypoint_classifier.hdf5\n",
      "35/35 [==============================] - 0s 3ms/step - loss: 0.7509 - accuracy: 0.7159 - val_loss: 0.4217 - val_accuracy: 0.9060\n",
      "Epoch 177/1000\n",
      " 1/35 [..............................] - ETA: 0s - loss: 0.7595 - accuracy: 0.7500\n",
      "Epoch 177: saving model to model/keypoint_classifier\\keypoint_classifier.hdf5\n",
      "35/35 [==============================] - 0s 3ms/step - loss: 0.7448 - accuracy: 0.7134 - val_loss: 0.4249 - val_accuracy: 0.9067\n",
      "Epoch 178/1000\n",
      " 1/35 [..............................] - ETA: 0s - loss: 0.7943 - accuracy: 0.6875\n",
      "Epoch 178: saving model to model/keypoint_classifier\\keypoint_classifier.hdf5\n",
      "35/35 [==============================] - 0s 3ms/step - loss: 0.7661 - accuracy: 0.7097 - val_loss: 0.4294 - val_accuracy: 0.9060\n",
      "Epoch 179/1000\n",
      " 1/35 [..............................] - ETA: 0s - loss: 0.5800 - accuracy: 0.7969\n",
      "Epoch 179: saving model to model/keypoint_classifier\\keypoint_classifier.hdf5\n",
      "35/35 [==============================] - 0s 3ms/step - loss: 0.7529 - accuracy: 0.7180 - val_loss: 0.4267 - val_accuracy: 0.9033\n",
      "Epoch 180/1000\n",
      " 1/35 [..............................] - ETA: 0s - loss: 0.7108 - accuracy: 0.7266\n",
      "Epoch 180: saving model to model/keypoint_classifier\\keypoint_classifier.hdf5\n",
      "35/35 [==============================] - 0s 3ms/step - loss: 0.7455 - accuracy: 0.7187 - val_loss: 0.4287 - val_accuracy: 0.9005\n",
      "Epoch 181/1000\n",
      " 1/35 [..............................] - ETA: 0s - loss: 0.8786 - accuracy: 0.6406\n",
      "Epoch 181: saving model to model/keypoint_classifier\\keypoint_classifier.hdf5\n",
      "35/35 [==============================] - 0s 3ms/step - loss: 0.7378 - accuracy: 0.7296 - val_loss: 0.4202 - val_accuracy: 0.9081\n",
      "Epoch 182/1000\n",
      " 1/35 [..............................] - ETA: 0s - loss: 0.7924 - accuracy: 0.6562\n",
      "Epoch 182: saving model to model/keypoint_classifier\\keypoint_classifier.hdf5\n",
      "35/35 [==============================] - 0s 3ms/step - loss: 0.7413 - accuracy: 0.7180 - val_loss: 0.4147 - val_accuracy: 0.9047\n",
      "Epoch 183/1000\n",
      " 1/35 [..............................] - ETA: 0s - loss: 0.7970 - accuracy: 0.6797\n",
      "Epoch 183: saving model to model/keypoint_classifier\\keypoint_classifier.hdf5\n",
      "35/35 [==============================] - 0s 3ms/step - loss: 0.7394 - accuracy: 0.7210 - val_loss: 0.4064 - val_accuracy: 0.9115\n",
      "Epoch 184/1000\n",
      " 1/35 [..............................] - ETA: 0s - loss: 0.7291 - accuracy: 0.7891\n",
      "Epoch 184: saving model to model/keypoint_classifier\\keypoint_classifier.hdf5\n",
      "35/35 [==============================] - 0s 3ms/step - loss: 0.7206 - accuracy: 0.7315 - val_loss: 0.3968 - val_accuracy: 0.9163\n",
      "Epoch 185/1000\n",
      " 1/35 [..............................] - ETA: 0s - loss: 0.6313 - accuracy: 0.7578\n",
      "Epoch 185: saving model to model/keypoint_classifier\\keypoint_classifier.hdf5\n",
      "35/35 [==============================] - 0s 3ms/step - loss: 0.7377 - accuracy: 0.7235 - val_loss: 0.4229 - val_accuracy: 0.9026\n",
      "Epoch 186/1000\n",
      " 1/35 [..............................] - ETA: 0s - loss: 0.6433 - accuracy: 0.7500\n",
      "Epoch 186: saving model to model/keypoint_classifier\\keypoint_classifier.hdf5\n",
      "35/35 [==============================] - 0s 3ms/step - loss: 0.7567 - accuracy: 0.7166 - val_loss: 0.4013 - val_accuracy: 0.9163\n",
      "Epoch 187/1000\n",
      " 1/35 [..............................] - ETA: 0s - loss: 0.6192 - accuracy: 0.8047\n",
      "Epoch 187: saving model to model/keypoint_classifier\\keypoint_classifier.hdf5\n",
      "35/35 [==============================] - 0s 3ms/step - loss: 0.7419 - accuracy: 0.7180 - val_loss: 0.4189 - val_accuracy: 0.9081\n",
      "Epoch 188/1000\n",
      " 1/35 [..............................] - ETA: 0s - loss: 0.7098 - accuracy: 0.7500\n",
      "Epoch 188: saving model to model/keypoint_classifier\\keypoint_classifier.hdf5\n",
      "35/35 [==============================] - 0s 3ms/step - loss: 0.7517 - accuracy: 0.7171 - val_loss: 0.4038 - val_accuracy: 0.9143\n",
      "Epoch 189/1000\n",
      " 1/35 [..............................] - ETA: 0s - loss: 0.7723 - accuracy: 0.6875\n",
      "Epoch 189: saving model to model/keypoint_classifier\\keypoint_classifier.hdf5\n",
      "35/35 [==============================] - 0s 3ms/step - loss: 0.7496 - accuracy: 0.7182 - val_loss: 0.4201 - val_accuracy: 0.9033\n",
      "Epoch 190/1000\n",
      " 1/35 [..............................] - ETA: 0s - loss: 0.5683 - accuracy: 0.7891\n",
      "Epoch 190: saving model to model/keypoint_classifier\\keypoint_classifier.hdf5\n",
      "35/35 [==============================] - 0s 3ms/step - loss: 0.7452 - accuracy: 0.7173 - val_loss: 0.4229 - val_accuracy: 0.9026\n",
      "Epoch 191/1000\n",
      " 1/35 [..............................] - ETA: 0s - loss: 0.7964 - accuracy: 0.7031\n",
      "Epoch 191: saving model to model/keypoint_classifier\\keypoint_classifier.hdf5\n",
      "35/35 [==============================] - 0s 3ms/step - loss: 0.7297 - accuracy: 0.7292 - val_loss: 0.4154 - val_accuracy: 0.9047\n",
      "Epoch 192/1000\n",
      " 1/35 [..............................] - ETA: 0s - loss: 0.6419 - accuracy: 0.7422\n",
      "Epoch 192: saving model to model/keypoint_classifier\\keypoint_classifier.hdf5\n",
      "35/35 [==============================] - 0s 3ms/step - loss: 0.7646 - accuracy: 0.7157 - val_loss: 0.4324 - val_accuracy: 0.9026\n",
      "Epoch 193/1000\n",
      " 1/35 [..............................] - ETA: 0s - loss: 0.6927 - accuracy: 0.7656\n",
      "Epoch 193: saving model to model/keypoint_classifier\\keypoint_classifier.hdf5\n",
      "35/35 [==============================] - 0s 3ms/step - loss: 0.7455 - accuracy: 0.7145 - val_loss: 0.4279 - val_accuracy: 0.8992\n",
      "Epoch 194/1000\n",
      " 1/35 [..............................] - ETA: 0s - loss: 0.6918 - accuracy: 0.7109\n",
      "Epoch 194: saving model to model/keypoint_classifier\\keypoint_classifier.hdf5\n",
      "35/35 [==============================] - 0s 3ms/step - loss: 0.7441 - accuracy: 0.7171 - val_loss: 0.4056 - val_accuracy: 0.9102\n",
      "Epoch 195/1000\n",
      " 1/35 [..............................] - ETA: 0s - loss: 0.7354 - accuracy: 0.7344\n",
      "Epoch 195: saving model to model/keypoint_classifier\\keypoint_classifier.hdf5\n",
      "35/35 [==============================] - 0s 3ms/step - loss: 0.7361 - accuracy: 0.7296 - val_loss: 0.4208 - val_accuracy: 0.9047\n",
      "Epoch 196/1000\n",
      " 1/35 [..............................] - ETA: 0s - loss: 0.6261 - accuracy: 0.7188\n",
      "Epoch 196: saving model to model/keypoint_classifier\\keypoint_classifier.hdf5\n",
      "35/35 [==============================] - 0s 3ms/step - loss: 0.7416 - accuracy: 0.7212 - val_loss: 0.4216 - val_accuracy: 0.9067\n",
      "Epoch 197/1000\n",
      " 1/35 [..............................] - ETA: 0s - loss: 0.8032 - accuracy: 0.7031\n",
      "Epoch 197: saving model to model/keypoint_classifier\\keypoint_classifier.hdf5\n",
      "35/35 [==============================] - 0s 3ms/step - loss: 0.7602 - accuracy: 0.7104 - val_loss: 0.4099 - val_accuracy: 0.9136\n",
      "Epoch 198/1000\n",
      " 1/35 [..............................] - ETA: 0s - loss: 0.7426 - accuracy: 0.7344\n",
      "Epoch 198: saving model to model/keypoint_classifier\\keypoint_classifier.hdf5\n",
      "35/35 [==============================] - 0s 3ms/step - loss: 0.7178 - accuracy: 0.7326 - val_loss: 0.4051 - val_accuracy: 0.9156\n",
      "Epoch 199/1000\n",
      " 1/35 [..............................] - ETA: 0s - loss: 0.8554 - accuracy: 0.6562\n",
      "Epoch 199: saving model to model/keypoint_classifier\\keypoint_classifier.hdf5\n",
      "35/35 [==============================] - 0s 3ms/step - loss: 0.7317 - accuracy: 0.7278 - val_loss: 0.4011 - val_accuracy: 0.9150\n",
      "Epoch 200/1000\n",
      " 1/35 [..............................] - ETA: 0s - loss: 0.7502 - accuracy: 0.7031\n",
      "Epoch 200: saving model to model/keypoint_classifier\\keypoint_classifier.hdf5\n",
      "35/35 [==============================] - 0s 3ms/step - loss: 0.7195 - accuracy: 0.7267 - val_loss: 0.4140 - val_accuracy: 0.9067\n",
      "Epoch 201/1000\n",
      " 1/35 [..............................] - ETA: 0s - loss: 0.6777 - accuracy: 0.7656\n",
      "Epoch 201: saving model to model/keypoint_classifier\\keypoint_classifier.hdf5\n",
      "35/35 [==============================] - 0s 3ms/step - loss: 0.7534 - accuracy: 0.7139 - val_loss: 0.4052 - val_accuracy: 0.9122\n",
      "Epoch 202/1000\n",
      " 1/35 [..............................] - ETA: 0s - loss: 0.6458 - accuracy: 0.7656\n",
      "Epoch 202: saving model to model/keypoint_classifier\\keypoint_classifier.hdf5\n",
      "35/35 [==============================] - 0s 3ms/step - loss: 0.7453 - accuracy: 0.7214 - val_loss: 0.4092 - val_accuracy: 0.9163\n",
      "Epoch 203/1000\n",
      "34/35 [============================>.] - ETA: 0s - loss: 0.7410 - accuracy: 0.7245\n",
      "Epoch 203: saving model to model/keypoint_classifier\\keypoint_classifier.hdf5\n",
      "35/35 [==============================] - 0s 3ms/step - loss: 0.7408 - accuracy: 0.7246 - val_loss: 0.4067 - val_accuracy: 0.9088\n",
      "Epoch 204/1000\n",
      " 1/35 [..............................] - ETA: 0s - loss: 0.6393 - accuracy: 0.7812\n",
      "Epoch 204: saving model to model/keypoint_classifier\\keypoint_classifier.hdf5\n",
      "35/35 [==============================] - 0s 3ms/step - loss: 0.7248 - accuracy: 0.7315 - val_loss: 0.4041 - val_accuracy: 0.9129\n",
      "Epoch 204: early stopping\n"
     ]
    },
    {
     "data": {
      "text/plain": [
       "<keras.src.callbacks.History at 0x1f9d2029410>"
      ]
     },
     "execution_count": 11,
     "metadata": {},
     "output_type": "execute_result"
    }
   ],
   "source": [
    "model.fit(\n",
    "    X_train,\n",
    "    y_train,\n",
    "    epochs=1000,\n",
    "    batch_size=128,\n",
    "    validation_data=(X_test, y_test),\n",
    "    callbacks=[cp_callback, es_callback]\n",
    ")"
   ]
  },
  {
   "cell_type": "code",
   "execution_count": 12,
   "metadata": {
    "colab": {
     "base_uri": "https://localhost:8080/"
    },
    "id": "pxvb2Y299hE3",
    "outputId": "59eb3185-2e37-4b9e-bc9d-ab1b8ac29b7f"
   },
   "outputs": [
    {
     "name": "stdout",
     "output_type": "stream",
     "text": [
      "12/12 [==============================] - 0s 1ms/step - loss: 0.4041 - accuracy: 0.9129\n"
     ]
    }
   ],
   "source": [
    "# Model evaluation\n",
    "val_loss, val_acc = model.evaluate(X_test, y_test, batch_size=128)"
   ]
  },
  {
   "cell_type": "code",
   "execution_count": 13,
   "metadata": {
    "id": "RBkmDeUW9hE4"
   },
   "outputs": [],
   "source": [
    "# Loading the saved model\n",
    "model = tf.keras.models.load_model(model_save_path)"
   ]
  },
  {
   "cell_type": "code",
   "execution_count": 14,
   "metadata": {
    "colab": {
     "base_uri": "https://localhost:8080/"
    },
    "id": "tFz9Tb0I9hE4",
    "outputId": "1c3b3528-54ae-4ee2-ab04-77429211cbef"
   },
   "outputs": [
    {
     "name": "stdout",
     "output_type": "stream",
     "text": [
      "1/1 [==============================] - 0s 73ms/step\n",
      "[6.614842e-02 6.989180e-02 8.538802e-01 7.350584e-04 8.528747e-04\n",
      " 7.716658e-03 7.749805e-04]\n",
      "2\n"
     ]
    }
   ],
   "source": [
    "# Inference test\n",
    "predict_result = model.predict(np.array([X_test[0]]))\n",
    "print(np.squeeze(predict_result))\n",
    "print(np.argmax(np.squeeze(predict_result)))"
   ]
  },
  {
   "cell_type": "markdown",
   "metadata": {
    "id": "S3U4yNWx9hE4"
   },
   "source": [
    "# Confusion matrix"
   ]
  },
  {
   "cell_type": "code",
   "execution_count": 15,
   "metadata": {
    "colab": {
     "base_uri": "https://localhost:8080/",
     "height": 582
    },
    "id": "AP1V6SCk9hE5",
    "outputId": "08e41a80-7a4a-4619-8125-ecc371368d19"
   },
   "outputs": [
    {
     "name": "stdout",
     "output_type": "stream",
     "text": [
      "46/46 [==============================] - 0s 1ms/step\n"
     ]
    },
    {
     "data": {
      "image/png": "[encoded data removed]",
      "text/plain": [
       "<Figure size 700x600 with 2 Axes>"
      ]
     },
     "metadata": {},
     "output_type": "display_data"
    },
    {
     "name": "stdout",
     "output_type": "stream",
     "text": [
      "Classification Report\n",
      "              precision    recall  f1-score   support\n",
      "\n",
      "           0       0.93      0.94      0.93       406\n",
      "           1       0.99      0.82      0.90       400\n",
      "           2       0.84      0.99      0.91       323\n",
      "           3       0.93      0.95      0.94        88\n",
      "           4       0.98      0.99      0.98        81\n",
      "           5       0.87      0.82      0.84        99\n",
      "           6       0.79      0.95      0.87        61\n",
      "\n",
      "    accuracy                           0.91      1458\n",
      "   macro avg       0.91      0.92      0.91      1458\n",
      "weighted avg       0.92      0.91      0.91      1458\n",
      "\n"
     ]
    }
   ],
   "source": [
    "import pandas as pd\n",
    "import seaborn as sns\n",
    "import matplotlib.pyplot as plt\n",
    "from sklearn.metrics import confusion_matrix, classification_report\n",
    "\n",
    "def print_confusion_matrix(y_true, y_pred, report=True):\n",
    "    labels = sorted(list(set(y_true)))\n",
    "    cmx_data = confusion_matrix(y_true, y_pred, labels=labels)\n",
    "    \n",
    "    df_cmx = pd.DataFrame(cmx_data, index=labels, columns=labels)\n",
    " \n",
    "    fig, ax = plt.subplots(figsize=(7, 6))\n",
    "    sns.heatmap(df_cmx, annot=True, fmt='g' ,square=False)\n",
    "    ax.set_ylim(len(set(y_true)), 0)\n",
    "    plt.show()\n",
    "    \n",
    "    if report:\n",
    "        print('Classification Report')\n",
    "        print(classification_report(y_test, y_pred))\n",
    "\n",
    "Y_pred = model.predict(X_test)\n",
    "y_pred = np.argmax(Y_pred, axis=1)\n",
    "\n",
    "print_confusion_matrix(y_test, y_pred)"
   ]
  },
  {
   "cell_type": "markdown",
   "metadata": {
    "id": "FNP6aqzc9hE5"
   },
   "source": [
    "# Convert to model for Tensorflow-Lite"
   ]
  },
  {
   "cell_type": "code",
   "execution_count": 16,
   "metadata": {
    "id": "ODjnYyld9hE6"
   },
   "outputs": [
    {
     "name": "stderr",
     "output_type": "stream",
     "text": [
      "C:\\Users\\madar\\AppData\\Roaming\\Python\\Python311\\site-packages\\keras\\src\\engine\\training.py:3103: UserWarning: You are saving your model as an HDF5 file via `model.save()`. This file format is considered legacy. We recommend using instead the native Keras format, e.g. `model.save('my_model.keras')`.\n",
      "  saving_api.save_model(\n"
     ]
    }
   ],
   "source": [
    "# Save as a model dedicated to inference\n",
    "model.save(model_save_path, include_optimizer=False)"
   ]
  },
  {
   "cell_type": "code",
   "execution_count": 17,
   "metadata": {
    "colab": {
     "base_uri": "https://localhost:8080/"
    },
    "id": "zRfuK8Y59hE6",
    "outputId": "a4ca585c-b5d5-4244-8291-8674063209bb"
   },
   "outputs": [
    {
     "name": "stdout",
     "output_type": "stream",
     "text": [
      "INFO:tensorflow:Assets written to: C:\\Users\\madar\\AppData\\Local\\Temp\\tmpk1udyh4x\\assets\n"
     ]
    },
    {
     "name": "stderr",
     "output_type": "stream",
     "text": [
      "INFO:tensorflow:Assets written to: C:\\Users\\madar\\AppData\\Local\\Temp\\tmpk1udyh4x\\assets\n"
     ]
    },
    {
     "data": {
      "text/plain": [
       "6676"
      ]
     },
     "execution_count": 17,
     "metadata": {},
     "output_type": "execute_result"
    }
   ],
   "source": [
    "# Transform model (quantization)\n",
    "\n",
    "converter = tf.lite.TFLiteConverter.from_keras_model(model)\n",
    "converter.optimizations = [tf.lite.Optimize.DEFAULT]\n",
    "tflite_quantized_model = converter.convert()\n",
    "\n",
    "open(tflite_save_path, 'wb').write(tflite_quantized_model)"
   ]
  },
  {
   "cell_type": "markdown",
   "metadata": {
    "id": "CHBPBXdx9hE6"
   },
   "source": [
    "# Inference test"
   ]
  },
  {
   "cell_type": "code",
   "execution_count": 18,
   "metadata": {
    "id": "mGAzLocO9hE7"
   },
   "outputs": [],
   "source": [
    "interpreter = tf.lite.Interpreter(model_path=tflite_save_path)\n",
    "interpreter.allocate_tensors()"
   ]
  },
  {
   "cell_type": "code",
   "execution_count": 19,
   "metadata": {
    "id": "oQuDK8YS9hE7"
   },
   "outputs": [],
   "source": [
    "# Get I / O tensor\n",
    "input_details = interpreter.get_input_details()\n",
    "output_details = interpreter.get_output_details()"
   ]
  },
  {
   "cell_type": "code",
   "execution_count": 20,
   "metadata": {
    "id": "2_ixAf_l9hE7"
   },
   "outputs": [],
   "source": [
    "interpreter.set_tensor(input_details[0]['index'], np.array([X_test[0]]))"
   ]
  },
  {
   "cell_type": "code",
   "execution_count": 21,
   "metadata": {
    "colab": {
     "base_uri": "https://localhost:8080/"
    },
    "id": "s4FoAnuc9hE7",
    "outputId": "91f18257-8d8b-4ef3-c558-e9b5f94fabbf",
    "scrolled": true
   },
   "outputs": [
    {
     "name": "stdout",
     "output_type": "stream",
     "text": [
      "CPU times: total: 0 ns\n",
      "Wall time: 0 ns\n"
     ]
    }
   ],
   "source": [
    "%%time\n",
    "# Inference implementation\n",
    "interpreter.invoke()\n",
    "tflite_results = interpreter.get_tensor(output_details[0]['index'])"
   ]
  },
  {
   "cell_type": "code",
   "execution_count": 22,
   "metadata": {
    "colab": {
     "base_uri": "https://localhost:8080/"
    },
    "id": "vONjp19J9hE8",
    "outputId": "77205e24-fd00-42c4-f7b6-e06e527c2cba"
   },
   "outputs": [
    {
     "name": "stdout",
     "output_type": "stream",
     "text": [
      "[6.614840e-02 6.989178e-02 8.538802e-01 7.350570e-04 8.528738e-04\n",
      " 7.716654e-03 7.749794e-04]\n",
      "2\n"
     ]
    }
   ],
   "source": [
    "print(np.squeeze(tflite_results))\n",
    "print(np.argmax(np.squeeze(tflite_results)))"
   ]
  }
 ],
 "metadata": {
  "accelerator": "GPU",
  "colab": {
   "collapsed_sections": [],
   "name": "keypoint_classification_EN.ipynb",
   "provenance": [],
   "toc_visible": true
  },
  "kernelspec": {
   "display_name": "Python 3 (ipykernel)",
   "language": "python",
   "name": "python3"
  },
  "language_info": {
   "codemirror_mode": {
    "name": "ipython",
    "version": 3
   },
   "file_extension": ".py",
   "mimetype": "text/x-python",
   "name": "python",
   "nbconvert_exporter": "python",
   "pygments_lexer": "ipython3",
   "version": "3.11.5"
  }
 },
 "nbformat": 4,
 "nbformat_minor": 4
}
